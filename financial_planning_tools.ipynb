{
 "cells": [
  {
   "cell_type": "markdown",
   "metadata": {},
   "source": [
    "# Financial Planning with APIs and Simulations\n",
    "\n",
    "In this Challenge, you’ll create two financial analysis tools by using a single Jupyter notebook:\n",
    "\n",
    "Part 1: A financial planner for emergencies. The members will be able to use this tool to visualize their current savings. The members can then determine if they have enough reserves for an emergency fund.\n",
    "\n",
    "Part 2: A financial planner for retirement. This tool will forecast the performance of their retirement portfolio in 30 years. To do this, the tool will make an Alpaca API call via the Alpaca SDK to get historical price data for use in Monte Carlo simulations.\n",
    "\n",
    "You’ll use the information from the Monte Carlo simulation to answer questions about the portfolio in your Jupyter notebook.\n",
    "\n"
   ]
  },
  {
   "cell_type": "code",
   "execution_count": 2,
   "metadata": {},
   "outputs": [],
   "source": [
    "# Import the required libraries and dependencies\n",
    "import os\n",
    "import requests\n",
    "import json\n",
    "import pandas as pd\n",
    "from dotenv import load_dotenv\n",
    "from pathlib import Path\n",
    "import alpaca_trade_api as tradeapi\n",
    "from MCForecastTools import MCSimulation\n",
    "\n",
    "%matplotlib inline"
   ]
  },
  {
   "cell_type": "code",
   "execution_count": null,
   "metadata": {},
   "outputs": [],
   "source": []
  },
  {
   "cell_type": "code",
   "execution_count": null,
   "metadata": {},
   "outputs": [],
   "source": []
  },
  {
   "cell_type": "code",
   "execution_count": null,
   "metadata": {},
   "outputs": [],
   "source": []
  },
  {
   "cell_type": "code",
   "execution_count": null,
   "metadata": {},
   "outputs": [],
   "source": []
  },
  {
   "cell_type": "code",
   "execution_count": 3,
   "metadata": {},
   "outputs": [
    {
     "data": {
      "text/plain": [
       "True"
      ]
     },
     "execution_count": 3,
     "metadata": {},
     "output_type": "execute_result"
    }
   ],
   "source": [
    "# Load the environment variables from the .env file\n",
    "#by calling the load_dotenv function\n",
    "dotenv_path = Path('SAMPLE.env')\n",
    "load_dotenv(dotenv_path=dotenv_path)"
   ]
  },
  {
   "cell_type": "code",
   "execution_count": null,
   "metadata": {},
   "outputs": [],
   "source": []
  },
  {
   "cell_type": "code",
   "execution_count": null,
   "metadata": {},
   "outputs": [],
   "source": []
  },
  {
   "cell_type": "code",
   "execution_count": null,
   "metadata": {},
   "outputs": [],
   "source": []
  },
  {
   "cell_type": "markdown",
   "metadata": {},
   "source": [
    "## Part 1: Create a Financial Planner for Emergencies"
   ]
  },
  {
   "cell_type": "markdown",
   "metadata": {},
   "source": [
    "### Evaluate the Cryptocurrency Wallet by Using the Requests Library\n",
    "\n",
    "In this section, you’ll determine the current value of a member’s cryptocurrency wallet. You’ll collect the current prices for the Bitcoin and Ethereum cryptocurrencies by using the Python Requests library. For the prototype, you’ll assume that the member holds the 1.2 Bitcoins (BTC) and 5.3 Ethereum coins (ETH). To do all this, complete the following steps:\n",
    "\n",
    "1. Create a variable named `monthly_income`, and set its value to `12000`.\n",
    "\n",
    "2. Use the Requests library to get the current price (in US dollars) of Bitcoin (BTC) and Ethereum (ETH) by using the API endpoints that the starter code supplies.\n",
    "\n",
    "3. Navigate the JSON response object to access the current price of each coin, and store each in a variable.\n",
    "\n",
    "    > **Hint** Note the specific identifier for each cryptocurrency in the API JSON response. The Bitcoin identifier is `1`, and the Ethereum identifier is `1027`.\n",
    "\n",
    "4. Calculate the value, in US dollars, of the current amount of each cryptocurrency and of the entire cryptocurrency wallet.\n",
    "\n"
   ]
  },
  {
   "cell_type": "code",
   "execution_count": 4,
   "metadata": {},
   "outputs": [],
   "source": [
    "# The current number of coins for each cryptocurrency asset held in the portfolio.\n",
    "btc_coins = 1.2\n",
    "eth_coins = 5.3"
   ]
  },
  {
   "cell_type": "code",
   "execution_count": null,
   "metadata": {},
   "outputs": [],
   "source": []
  },
  {
   "cell_type": "markdown",
   "metadata": {},
   "source": [
    "#### Step 1: Create a variable named `monthly_income`, and set its value to `12000`."
   ]
  },
  {
   "cell_type": "code",
   "execution_count": 5,
   "metadata": {},
   "outputs": [],
   "source": [
    "# The monthly amount for the member's household income\n",
    "# YOUR CODE HERE\n",
    "monthly_income = 12000"
   ]
  },
  {
   "cell_type": "code",
   "execution_count": null,
   "metadata": {},
   "outputs": [],
   "source": []
  },
  {
   "cell_type": "markdown",
   "metadata": {},
   "source": [
    "#### Review the endpoint URLs for the API calls to Free Crypto API in order to get the current pricing information for both BTC and ETH."
   ]
  },
  {
   "cell_type": "code",
   "execution_count": 6,
   "metadata": {},
   "outputs": [],
   "source": [
    "# The Free Crypto API Call endpoint URLs for the held cryptocurrency assets\n",
    "btc_url = \"https://api.alternative.me/v2/ticker/Bitcoin/?convert=USD\"\n",
    "eth_url = \"https://api.alternative.me/v2/ticker/Ethereum/?convert=USD\""
   ]
  },
  {
   "cell_type": "code",
   "execution_count": null,
   "metadata": {},
   "outputs": [],
   "source": []
  },
  {
   "cell_type": "markdown",
   "metadata": {},
   "source": [
    "#### Step 2. Use the Requests library to get the current price (in US dollars) of Bitcoin (BTC) and Ethereum (ETH) by using the API endpoints that the starter code supplied."
   ]
  },
  {
   "cell_type": "code",
   "execution_count": 7,
   "metadata": {},
   "outputs": [
    {
     "name": "stdout",
     "output_type": "stream",
     "text": [
      "{\n",
      "    \"data\": {\n",
      "        \"1\": {\n",
      "            \"circulating_supply\": 19200468,\n",
      "            \"id\": 1,\n",
      "            \"last_updated\": 1667792341,\n",
      "            \"max_supply\": 21000000,\n",
      "            \"name\": \"Bitcoin\",\n",
      "            \"quotes\": {\n",
      "                \"USD\": {\n",
      "                    \"market_cap\": 401915394195,\n",
      "                    \"percent_change_1h\": -0.369855151066743,\n",
      "                    \"percent_change_24h\": -1.37388765167396,\n",
      "                    \"percent_change_7d\": 1.52435468970112,\n",
      "                    \"percentage_change_1h\": -0.369855151066743,\n",
      "                    \"percentage_change_24h\": -1.37388765167396,\n",
      "                    \"percentage_change_7d\": 1.52435468970112,\n",
      "                    \"price\": 20938.0,\n",
      "                    \"volume_24h\": 328653809393\n",
      "                }\n",
      "            },\n",
      "            \"rank\": 1,\n",
      "            \"symbol\": \"BTC\",\n",
      "            \"total_supply\": 19200468,\n",
      "            \"website_slug\": \"bitcoin\"\n",
      "        }\n",
      "    },\n",
      "    \"metadata\": {\n",
      "        \"error\": null,\n",
      "        \"num_cryptocurrencies\": 3116,\n",
      "        \"timestamp\": 1667792341\n",
      "    }\n",
      "}\n"
     ]
    }
   ],
   "source": [
    "# Using the Python requests library, make an API call to access the current price of BTC\n",
    "btc_response = requests.get(btc_url).json()\n",
    "\n",
    "# Use the json.dumps function to review the response data from the API call\n",
    "# Use the indent and sort_keys parameters to make the response object readable\n",
    "# YOUR CODE HERE\n",
    "print(json.dumps(btc_response, indent=4, sort_keys=True))"
   ]
  },
  {
   "cell_type": "code",
   "execution_count": null,
   "metadata": {},
   "outputs": [],
   "source": []
  },
  {
   "cell_type": "code",
   "execution_count": 8,
   "metadata": {},
   "outputs": [
    {
     "name": "stdout",
     "output_type": "stream",
     "text": [
      "{\n",
      "    \"data\": {\n",
      "        \"1027\": {\n",
      "            \"circulating_supply\": 120523609,\n",
      "            \"id\": 1027,\n",
      "            \"last_updated\": 1667792341,\n",
      "            \"max_supply\": 120523609,\n",
      "            \"name\": \"Ethereum\",\n",
      "            \"quotes\": {\n",
      "                \"USD\": {\n",
      "                    \"market_cap\": 191328248564,\n",
      "                    \"percent_change_1h\": -0.393970392506378,\n",
      "                    \"percent_change_24h\": -2.12648808459123,\n",
      "                    \"percent_change_7d\": -0.27770254501422,\n",
      "                    \"percentage_change_1h\": -0.393970392506378,\n",
      "                    \"percentage_change_24h\": -2.12648808459123,\n",
      "                    \"percentage_change_7d\": -0.27770254501422,\n",
      "                    \"price\": 1586.63,\n",
      "                    \"volume_24h\": 23873790684\n",
      "                }\n",
      "            },\n",
      "            \"rank\": 2,\n",
      "            \"symbol\": \"ETH\",\n",
      "            \"total_supply\": 120523609,\n",
      "            \"website_slug\": \"ethereum\"\n",
      "        }\n",
      "    },\n",
      "    \"metadata\": {\n",
      "        \"error\": null,\n",
      "        \"num_cryptocurrencies\": 3116,\n",
      "        \"timestamp\": 1667792341\n",
      "    }\n",
      "}\n"
     ]
    }
   ],
   "source": [
    "# Using the Python requests library, make an API call to access the current price ETH\n",
    "eth_response = requests.get(eth_url).json() \n",
    "\n",
    "# Use the json.dumps function to review the response data from the API call\n",
    "# Use the indent and sort_keys parameters to make the response object readable\n",
    "# YOUR CODE HERE\n",
    "print(json.dumps(eth_response , indent=4, sort_keys=True))"
   ]
  },
  {
   "cell_type": "code",
   "execution_count": null,
   "metadata": {},
   "outputs": [],
   "source": []
  },
  {
   "cell_type": "markdown",
   "metadata": {},
   "source": [
    "#### Step 3: Navigate the JSON response object to access the current price of each coin, and store each in a variable."
   ]
  },
  {
   "cell_type": "code",
   "execution_count": 9,
   "metadata": {},
   "outputs": [
    {
     "name": "stdout",
     "output_type": "stream",
     "text": [
      "The price for bitcoin is $20938.0\n"
     ]
    }
   ],
   "source": [
    "# Navigate the BTC response object to access the current price of BTC\n",
    "btc_price = btc_response['data']['1']['quotes']['USD']['price']\n",
    "\n",
    "# Print the current price of BTC\n",
    "# YOUR CODE HERE\n",
    "\n",
    "print(f\"The price for bitcoin is ${btc_price}\")\n"
   ]
  },
  {
   "cell_type": "code",
   "execution_count": null,
   "metadata": {},
   "outputs": [],
   "source": []
  },
  {
   "cell_type": "code",
   "execution_count": null,
   "metadata": {},
   "outputs": [],
   "source": []
  },
  {
   "cell_type": "code",
   "execution_count": 10,
   "metadata": {},
   "outputs": [
    {
     "name": "stdout",
     "output_type": "stream",
     "text": [
      "The price for bitcoin is $1586.63\n"
     ]
    }
   ],
   "source": [
    "# Navigate the BTC response object to access the current price of ETH\n",
    "eth_price = eth_response['data']['1027']['quotes']['USD']['price']\n",
    "\n",
    "# Print the current price of ETH\n",
    "# YOUR CODE HERE\n",
    "\n",
    "print(f\"The price for bitcoin is ${eth_price}\")"
   ]
  },
  {
   "cell_type": "code",
   "execution_count": null,
   "metadata": {},
   "outputs": [],
   "source": []
  },
  {
   "cell_type": "code",
   "execution_count": null,
   "metadata": {},
   "outputs": [],
   "source": []
  },
  {
   "cell_type": "markdown",
   "metadata": {},
   "source": [
    "### Step 4: Calculate the value, in US dollars, of the current amount of each cryptocurrency and of the entire cryptocurrency wallet."
   ]
  },
  {
   "cell_type": "code",
   "execution_count": 11,
   "metadata": {},
   "outputs": [
    {
     "data": {
      "text/plain": [
       "25125.6"
      ]
     },
     "execution_count": 11,
     "metadata": {},
     "output_type": "execute_result"
    }
   ],
   "source": [
    "# Compute the current value of the BTC holding \n",
    "btc_value = btc_price * btc_coins\n",
    "\n",
    "# Print current value of your holding in BTC\n",
    "# YOUR CODE HERE\n",
    "btc_value\n"
   ]
  },
  {
   "cell_type": "code",
   "execution_count": null,
   "metadata": {},
   "outputs": [],
   "source": []
  },
  {
   "cell_type": "code",
   "execution_count": null,
   "metadata": {},
   "outputs": [],
   "source": []
  },
  {
   "cell_type": "code",
   "execution_count": 12,
   "metadata": {},
   "outputs": [
    {
     "data": {
      "text/plain": [
       "8409.139000000001"
      ]
     },
     "execution_count": 12,
     "metadata": {},
     "output_type": "execute_result"
    }
   ],
   "source": [
    "# Compute the current value of the ETH holding \n",
    "eth_value = eth_price * eth_coins\n",
    "\n",
    "# Print current value of your holding in ETH\n",
    "# YOUR CODE HEREe\n",
    "eth_value"
   ]
  },
  {
   "cell_type": "code",
   "execution_count": null,
   "metadata": {},
   "outputs": [],
   "source": []
  },
  {
   "cell_type": "code",
   "execution_count": 13,
   "metadata": {},
   "outputs": [
    {
     "data": {
      "text/plain": [
       "33534.739"
      ]
     },
     "execution_count": 13,
     "metadata": {},
     "output_type": "execute_result"
    }
   ],
   "source": [
    "# Compute the total value of the cryptocurrency wallet\n",
    "# Add the value of the BTC holding to the value of the ETH holding\n",
    "total_crypto_wallet = btc_value + eth_value\n",
    "# Print current cryptocurrency wallet balance\n",
    "# YOUR CODE HERE\n",
    "total_crypto_wallet"
   ]
  },
  {
   "cell_type": "code",
   "execution_count": null,
   "metadata": {},
   "outputs": [],
   "source": []
  },
  {
   "cell_type": "code",
   "execution_count": null,
   "metadata": {},
   "outputs": [],
   "source": []
  },
  {
   "cell_type": "code",
   "execution_count": null,
   "metadata": {},
   "outputs": [],
   "source": []
  },
  {
   "cell_type": "markdown",
   "metadata": {},
   "source": [
    "### Evaluate the Stock and Bond Holdings by Using the Alpaca SDK\n",
    "\n",
    "In this section, you’ll determine the current value of a member’s stock and bond holdings. You’ll make an API call to Alpaca via the Alpaca SDK to get the current closing prices of the SPDR S&P 500 ETF Trust (ticker: SPY) and of the iShares Core US Aggregate Bond ETF (ticker: AGG). For the prototype, assume that the member holds 110 shares of SPY, which represents the stock portion of their portfolio, and 200 shares of AGG, which represents the bond portion. To do all this, complete the following steps:\n",
    "\n",
    "1. In the `Starter_Code` folder, create an environment file (`.env`) to store the values of your Alpaca API key and Alpaca secret key.\n",
    "\n",
    "2. Set the variables for the Alpaca API and secret keys. Using the Alpaca SDK, create the Alpaca `tradeapi.REST` object. In this object, include the parameters for the Alpaca API key, the secret key, and the version number.\n",
    "\n",
    "3. Set the following parameters for the Alpaca API call:\n",
    "\n",
    "    - `tickers`: Use the tickers for the member’s stock and bond holdings.\n",
    "\n",
    "    - `timeframe`: Use a time frame of one day.\n",
    "\n",
    "    - `start_date` and `end_date`: Use the same date for these parameters, and format them with the date of the previous weekday (or `2020-08-07`). This is because you want the one closing price for the most-recent trading day.\n",
    "\n",
    "4. Get the current closing prices for `SPY` and `AGG` by using the Alpaca `get_bars` function. Format the response as a Pandas DataFrame by including the `df` property at the end of the `get_bars` function.\n",
    "\n",
    "5. Navigating the Alpaca response DataFrame, select the `SPY` and `AGG` closing prices, and store them as variables.\n",
    "\n",
    "6. Calculate the value, in US dollars, of the current amount of shares in each of the stock and bond portions of the portfolio, and print the results.\n"
   ]
  },
  {
   "cell_type": "markdown",
   "metadata": {},
   "source": [
    "#### Review the total number of shares held in both (SPY) and (AGG)."
   ]
  },
  {
   "cell_type": "code",
   "execution_count": 14,
   "metadata": {},
   "outputs": [],
   "source": [
    "# Current amount of shares held in both the stock (SPY) and bond (AGG) portion of the portfolio.\n",
    "spy_shares = 110\n",
    "agg_shares = 200\n"
   ]
  },
  {
   "cell_type": "code",
   "execution_count": null,
   "metadata": {},
   "outputs": [],
   "source": []
  },
  {
   "cell_type": "markdown",
   "metadata": {},
   "source": [
    "#### Step 1: In the `Starter_Code` folder, create an environment file (`.env`) to store the values of your Alpaca API key and Alpaca secret key."
   ]
  },
  {
   "cell_type": "markdown",
   "metadata": {},
   "source": [
    "#### Step 2: Set the variables for the Alpaca API and secret keys. Using the Alpaca SDK, create the Alpaca `tradeapi.REST` object. In this object, include the parameters for the Alpaca API key, the secret key, and the version number."
   ]
  },
  {
   "cell_type": "code",
   "execution_count": 15,
   "metadata": {},
   "outputs": [],
   "source": [
    "# Set the variables for the Alpaca API and secret keys\n",
    "alpaca_api_key = os.getenv(\"ALPACA_API_KEY\")\n",
    "alpaca_secret_key = os.getenv(\"ALPACA_SECRET_KEY\")\n",
    "\n",
    "# Create the Alpaca tradeapi.REST object\n",
    "# YOUR CODE HERE\n",
    "\n",
    "alpaca = tradeapi.REST(\n",
    "    alpaca_api_key,\n",
    "    alpaca_secret_key,\n",
    "    api_version=\"v2\")\n"
   ]
  },
  {
   "cell_type": "code",
   "execution_count": null,
   "metadata": {},
   "outputs": [],
   "source": []
  },
  {
   "cell_type": "markdown",
   "metadata": {},
   "source": [
    "#### Step 3: Set the following parameters for the Alpaca API call:\n",
    "\n",
    "- `tickers`: Use the tickers for the member’s stock and bond holdings.\n",
    "\n",
    "- `timeframe`: Use a time frame of one day.\n",
    "\n",
    "- `start_date` and `end_date`: Use the same date for these parameters, and format them with the date of the previous weekday (or `2020-08-07`). This is because you want the one closing price for the most-recent trading day.\n"
   ]
  },
  {
   "cell_type": "code",
   "execution_count": 16,
   "metadata": {},
   "outputs": [],
   "source": [
    "# Set the tickers for both the bond and stock portion of the portfolio\n",
    "tickers = [\"spy\", \"agg\"]\n",
    "\n",
    "# Set timeframe to 1Day\n",
    "# YOUR CODE HERE\n",
    "timeframe = \"1Day\"\n",
    "\n",
    "# Format current date as ISO format\n",
    "# Set both the start and end date at the date of your prior weekday \n",
    "# This will give you the closing price of the previous trading day\n",
    "# Alternatively you can use a start and end date of 2020-08-07\n",
    "start_date = pd.Timestamp(\"2022-11-03\", tz=\"America/New_York\").isoformat()\n",
    "end_date = pd.Timestamp(\"2022-11-03\", tz=\"America/New_York\").isoformat()\n"
   ]
  },
  {
   "cell_type": "code",
   "execution_count": null,
   "metadata": {},
   "outputs": [],
   "source": []
  },
  {
   "cell_type": "markdown",
   "metadata": {},
   "source": [
    "#### Step 4: Get the current closing prices for `SPY` and `AGG` by using the Alpaca `get_bars` function. Format the response as a Pandas DataFrame by including the `df` property at the end of the `get_bars` function."
   ]
  },
  {
   "cell_type": "code",
   "execution_count": 17,
   "metadata": {},
   "outputs": [
    {
     "data": {
      "text/html": [
       "<div>\n",
       "<style scoped>\n",
       "    .dataframe tbody tr th:only-of-type {\n",
       "        vertical-align: middle;\n",
       "    }\n",
       "\n",
       "    .dataframe tbody tr th {\n",
       "        vertical-align: top;\n",
       "    }\n",
       "\n",
       "    .dataframe thead tr th {\n",
       "        text-align: left;\n",
       "    }\n",
       "\n",
       "    .dataframe thead tr:last-of-type th {\n",
       "        text-align: right;\n",
       "    }\n",
       "</style>\n",
       "<table border=\"1\" class=\"dataframe\">\n",
       "  <thead>\n",
       "    <tr>\n",
       "      <th></th>\n",
       "      <th colspan=\"7\" halign=\"left\">SPY</th>\n",
       "      <th colspan=\"7\" halign=\"left\">AGG</th>\n",
       "    </tr>\n",
       "    <tr>\n",
       "      <th></th>\n",
       "      <th>open</th>\n",
       "      <th>high</th>\n",
       "      <th>low</th>\n",
       "      <th>close</th>\n",
       "      <th>volume</th>\n",
       "      <th>trade_count</th>\n",
       "      <th>vwap</th>\n",
       "      <th>open</th>\n",
       "      <th>high</th>\n",
       "      <th>low</th>\n",
       "      <th>close</th>\n",
       "      <th>volume</th>\n",
       "      <th>trade_count</th>\n",
       "      <th>vwap</th>\n",
       "    </tr>\n",
       "    <tr>\n",
       "      <th>timestamp</th>\n",
       "      <th></th>\n",
       "      <th></th>\n",
       "      <th></th>\n",
       "      <th></th>\n",
       "      <th></th>\n",
       "      <th></th>\n",
       "      <th></th>\n",
       "      <th></th>\n",
       "      <th></th>\n",
       "      <th></th>\n",
       "      <th></th>\n",
       "      <th></th>\n",
       "      <th></th>\n",
       "      <th></th>\n",
       "    </tr>\n",
       "  </thead>\n",
       "  <tbody>\n",
       "    <tr>\n",
       "      <th>2022-11-03 04:00:00+00:00</th>\n",
       "      <td>371.465</td>\n",
       "      <td>374.2</td>\n",
       "      <td>368.79</td>\n",
       "      <td>371.01</td>\n",
       "      <td>85657400</td>\n",
       "      <td>641406</td>\n",
       "      <td>372.172239</td>\n",
       "      <td>93.97</td>\n",
       "      <td>94.505</td>\n",
       "      <td>93.93</td>\n",
       "      <td>94.35</td>\n",
       "      <td>9310830</td>\n",
       "      <td>31297</td>\n",
       "      <td>94.279681</td>\n",
       "    </tr>\n",
       "  </tbody>\n",
       "</table>\n",
       "</div>"
      ],
      "text/plain": [
       "                               SPY                                   \\\n",
       "                              open   high     low   close    volume   \n",
       "timestamp                                                             \n",
       "2022-11-03 04:00:00+00:00  371.465  374.2  368.79  371.01  85657400   \n",
       "\n",
       "                                                     AGG                 \\\n",
       "                          trade_count        vwap   open    high    low   \n",
       "timestamp                                                                 \n",
       "2022-11-03 04:00:00+00:00      641406  372.172239  93.97  94.505  93.93   \n",
       "\n",
       "                                                                  \n",
       "                           close   volume trade_count       vwap  \n",
       "timestamp                                                         \n",
       "2022-11-03 04:00:00+00:00  94.35  9310830       31297  94.279681  "
      ]
     },
     "execution_count": 17,
     "metadata": {},
     "output_type": "execute_result"
    }
   ],
   "source": [
    "# Use the Alpaca get_bars function to get current closing prices the portfolio\n",
    "# Be sure to set the `df` property after the function to format the response object as a DataFrame\n",
    "# YOUR CODE HERE\n",
    "prices_df =  alpaca.get_bars(\n",
    "    tickers,\n",
    "    timeframe,\n",
    "    start = start_date,\n",
    "    end = end_date\n",
    ").df\n",
    "\n",
    "# Reorganize the DataFrame\n",
    "# Separate ticker data\n",
    "# YOUR CODE HERE\n",
    "SPY = prices_df[prices_df['symbol']=='SPY'].drop('symbol', axis=1)\n",
    "AGG = prices_df[prices_df['symbol']=='AGG'].drop('symbol', axis=1)\n",
    "\n",
    "# Concatenate the ticker DataFrames\n",
    "# YOUR CODE HERE\n",
    "prices_df = pd.concat([SPY, AGG], axis=1, keys=[\"SPY\", \"AGG\"])\n",
    "# Review the first 5 rows of the Alpaca DataFrame\n",
    "# YOUR CODE HERE\n",
    "prices_df.head()\n"
   ]
  },
  {
   "cell_type": "code",
   "execution_count": null,
   "metadata": {},
   "outputs": [],
   "source": []
  },
  {
   "cell_type": "code",
   "execution_count": null,
   "metadata": {},
   "outputs": [],
   "source": []
  },
  {
   "cell_type": "markdown",
   "metadata": {},
   "source": [
    "#### Step 5: Navigating the Alpaca response DataFrame, select the `SPY` and `AGG` closing prices, and store them as variables."
   ]
  },
  {
   "cell_type": "code",
   "execution_count": 18,
   "metadata": {},
   "outputs": [
    {
     "data": {
      "text/plain": [
       "94.35"
      ]
     },
     "execution_count": 18,
     "metadata": {},
     "output_type": "execute_result"
    }
   ],
   "source": [
    "# Access the closing price for AGG from the Alpaca DataFrame\n",
    "# Converting the value to a floating point number\n",
    "agg_close_price = float(prices_df[\"AGG\"][\"close\"])\n",
    "\n",
    "# Print the AGG closing price\n",
    "# YOUR CODE HERE\n",
    "agg_close_price"
   ]
  },
  {
   "cell_type": "code",
   "execution_count": null,
   "metadata": {},
   "outputs": [],
   "source": []
  },
  {
   "cell_type": "code",
   "execution_count": null,
   "metadata": {},
   "outputs": [],
   "source": []
  },
  {
   "cell_type": "code",
   "execution_count": 19,
   "metadata": {},
   "outputs": [
    {
     "data": {
      "text/plain": [
       "371.01"
      ]
     },
     "execution_count": 19,
     "metadata": {},
     "output_type": "execute_result"
    }
   ],
   "source": [
    "# Access the closing price for SPY from the Alpaca DataFrame\n",
    "# Converting the value to a floating point number\n",
    "spy_close_price = float(prices_df[\"SPY\"][\"close\"])\n",
    "\n",
    "# Print the SPY closing price\n",
    "# YOUR CODE HERE\n",
    "spy_close_price"
   ]
  },
  {
   "cell_type": "code",
   "execution_count": null,
   "metadata": {},
   "outputs": [],
   "source": []
  },
  {
   "cell_type": "markdown",
   "metadata": {},
   "source": [
    "#### Step 6: Calculate the value, in US dollars, of the current amount of shares in each of the stock and bond portions of the portfolio, and print the results."
   ]
  },
  {
   "cell_type": "code",
   "execution_count": 20,
   "metadata": {},
   "outputs": [
    {
     "data": {
      "text/plain": [
       "18870.0"
      ]
     },
     "execution_count": 20,
     "metadata": {},
     "output_type": "execute_result"
    }
   ],
   "source": [
    "# Calculate the current value of the bond portion of the portfolio\n",
    "agg_value = agg_close_price * agg_shares\n",
    "\n",
    "# Print the current value of the bond portfolio\n",
    "# YOUR CODE HERE\n",
    "agg_value"
   ]
  },
  {
   "cell_type": "code",
   "execution_count": null,
   "metadata": {},
   "outputs": [],
   "source": []
  },
  {
   "cell_type": "code",
   "execution_count": null,
   "metadata": {},
   "outputs": [],
   "source": []
  },
  {
   "cell_type": "code",
   "execution_count": 21,
   "metadata": {},
   "outputs": [
    {
     "data": {
      "text/plain": [
       "40811.1"
      ]
     },
     "execution_count": 21,
     "metadata": {},
     "output_type": "execute_result"
    }
   ],
   "source": [
    "# Calculate the current value of the stock portion of the portfolio\n",
    "spy_value = spy_close_price * spy_shares\n",
    "\n",
    "# Print the current value of the stock portfolio\n",
    "# YOUR CODE HERE\n",
    "spy_value "
   ]
  },
  {
   "cell_type": "code",
   "execution_count": null,
   "metadata": {},
   "outputs": [],
   "source": []
  },
  {
   "cell_type": "code",
   "execution_count": 22,
   "metadata": {},
   "outputs": [
    {
     "data": {
      "text/plain": [
       "41011.1"
      ]
     },
     "execution_count": 22,
     "metadata": {},
     "output_type": "execute_result"
    }
   ],
   "source": [
    "# Calculate the total value of the stock and bond portion of the portfolio\n",
    "total_stocks_bonds = agg_shares + spy_value\n",
    "\n",
    "# Print the current balance of the stock and bond portion of the portfolio\n",
    "# YOUR CODE HERE\n",
    "total_stocks_bonds"
   ]
  },
  {
   "cell_type": "code",
   "execution_count": null,
   "metadata": {},
   "outputs": [],
   "source": []
  },
  {
   "cell_type": "code",
   "execution_count": null,
   "metadata": {},
   "outputs": [],
   "source": []
  },
  {
   "cell_type": "code",
   "execution_count": 23,
   "metadata": {},
   "outputs": [
    {
     "data": {
      "text/plain": [
       "74545.839"
      ]
     },
     "execution_count": 23,
     "metadata": {},
     "output_type": "execute_result"
    }
   ],
   "source": [
    "# Calculate the total value of the member's entire savings portfolio\n",
    "# Add the value of the cryptocurrency walled to the value of the total stocks and bonds\n",
    "total_portfolio = total_stocks_bonds + total_crypto_wallet\n",
    "\n",
    "# Print current cryptocurrency wallet balance\n",
    "# YOUR CODE HERE\n",
    "total_portfolio "
   ]
  },
  {
   "cell_type": "code",
   "execution_count": null,
   "metadata": {},
   "outputs": [],
   "source": []
  },
  {
   "cell_type": "code",
   "execution_count": null,
   "metadata": {},
   "outputs": [],
   "source": []
  },
  {
   "cell_type": "markdown",
   "metadata": {},
   "source": [
    "### Evaluate the Emergency Fund\n",
    "\n",
    "In this section, you’ll use the valuations for the cryptocurrency wallet and for the stock and bond portions of the portfolio to determine if the credit union member has enough savings to build an emergency fund into their financial plan. To do this, complete the following steps:\n",
    "\n",
    "1. Create a Python list named `savings_data` that has two elements. The first element contains the total value of the cryptocurrency wallet. The second element contains the total value of the stock and bond portions of the portfolio.\n",
    "\n",
    "2. Use the `savings_data` list to create a Pandas DataFrame named `savings_df`, and then display this DataFrame. The function to create the DataFrame should take the following three parameters:\n",
    "\n",
    "    - `savings_data`: Use the list that you just created.\n",
    "\n",
    "    - `columns`: Set this parameter equal to a Python list with a single value called `amount`.\n",
    "\n",
    "    - `index`: Set this parameter equal to a Python list with the values of `crypto` and `stock/bond`.\n",
    "\n",
    "3. Use the `savings_df` DataFrame to plot a pie chart that visualizes the composition of the member’s portfolio. The y-axis of the pie chart uses `amount`. Be sure to add a title.\n",
    "\n",
    "4. Using Python, determine if the current portfolio has enough to create an emergency fund as part of the member’s financial plan. Ideally, an emergency fund should equal to three times the member’s monthly income. To do this, implement the following steps:\n",
    "\n",
    "    1. Create a variable named `emergency_fund_value`, and set it equal to three times the value of the member’s `monthly_income` of $12000. (You set this earlier in Part 1).\n",
    "\n",
    "    2. Create a series of three if statements to determine if the member’s total portfolio is large enough to fund the emergency portfolio:\n",
    "\n",
    "        1. If the total portfolio value is greater than the emergency fund value, display a message congratulating the member for having enough money in this fund.\n",
    "\n",
    "        2. Else if the total portfolio value is equal to the emergency fund value, display a message congratulating the member on reaching this important financial goal.\n",
    "\n",
    "        3. Else the total portfolio is less than the emergency fund value, so display a message showing how many dollars away the member is from reaching the goal. (Subtract the total portfolio value from the emergency fund value.)\n"
   ]
  },
  {
   "cell_type": "markdown",
   "metadata": {},
   "source": [
    "#### Step 1: Create a Python list named `savings_data` that has two elements. The first element contains the total value of the cryptocurrency wallet. The second element contains the total value of the stock and bond portions of the portfolio."
   ]
  },
  {
   "cell_type": "code",
   "execution_count": 24,
   "metadata": {},
   "outputs": [
    {
     "data": {
      "text/plain": [
       "[41011.1, 33534.739]"
      ]
     },
     "execution_count": 24,
     "metadata": {},
     "output_type": "execute_result"
    }
   ],
   "source": [
    "# Consolidate financial assets data into a Python list\n",
    "# YOUR CODE HERE\n",
    "savings_data = [total_stocks_bonds, total_crypto_wallet]\n",
    "\n",
    "# Review the Python list savings_data\n",
    "# YOUR CODE HERE\n",
    "savings_data"
   ]
  },
  {
   "cell_type": "code",
   "execution_count": null,
   "metadata": {},
   "outputs": [],
   "source": []
  },
  {
   "cell_type": "code",
   "execution_count": null,
   "metadata": {},
   "outputs": [],
   "source": []
  },
  {
   "cell_type": "code",
   "execution_count": null,
   "metadata": {},
   "outputs": [],
   "source": []
  },
  {
   "cell_type": "markdown",
   "metadata": {},
   "source": [
    "#### Step 2: Use the `savings_data` list to create a Pandas DataFrame named `savings_df`, and then display this DataFrame. The function to create the DataFrame should take the following three parameters:\n",
    "\n",
    "- `savings_data`: Use the list that you just created.\n",
    "\n",
    "- `columns`: Set this parameter equal to a Python list with a single value called `amount`.\n",
    "\n",
    "- `index`: Set this parameter equal to a Python list with the values of `crypto` and `stock/bond`.\n"
   ]
  },
  {
   "cell_type": "code",
   "execution_count": 25,
   "metadata": {},
   "outputs": [
    {
     "data": {
      "text/html": [
       "<div>\n",
       "<style scoped>\n",
       "    .dataframe tbody tr th:only-of-type {\n",
       "        vertical-align: middle;\n",
       "    }\n",
       "\n",
       "    .dataframe tbody tr th {\n",
       "        vertical-align: top;\n",
       "    }\n",
       "\n",
       "    .dataframe thead th {\n",
       "        text-align: right;\n",
       "    }\n",
       "</style>\n",
       "<table border=\"1\" class=\"dataframe\">\n",
       "  <thead>\n",
       "    <tr style=\"text-align: right;\">\n",
       "      <th></th>\n",
       "      <th>amount</th>\n",
       "    </tr>\n",
       "  </thead>\n",
       "  <tbody>\n",
       "    <tr>\n",
       "      <th>Stocks &amp; Bonds</th>\n",
       "      <td>41011.100</td>\n",
       "    </tr>\n",
       "    <tr>\n",
       "      <th>Crypto</th>\n",
       "      <td>33534.739</td>\n",
       "    </tr>\n",
       "  </tbody>\n",
       "</table>\n",
       "</div>"
      ],
      "text/plain": [
       "                   amount\n",
       "Stocks & Bonds  41011.100\n",
       "Crypto          33534.739"
      ]
     },
     "execution_count": 25,
     "metadata": {},
     "output_type": "execute_result"
    }
   ],
   "source": [
    "\n",
    "\n",
    "\n",
    "\n",
    "# Create a Pandas DataFrame called savings_df \n",
    "# YOUR CODE HERE\n",
    "\n",
    "savings_df = pd.DataFrame(data={'amount': savings_data}, index=[\"Stocks & Bonds\", \"Crypto\"])\n",
    "\n",
    "# Display the savings_df DataFrame\n",
    "# YOUR CODE HERE\n",
    "\n",
    "savings_df\n"
   ]
  },
  {
   "cell_type": "code",
   "execution_count": null,
   "metadata": {},
   "outputs": [],
   "source": []
  },
  {
   "cell_type": "code",
   "execution_count": null,
   "metadata": {},
   "outputs": [],
   "source": []
  },
  {
   "cell_type": "code",
   "execution_count": null,
   "metadata": {},
   "outputs": [],
   "source": []
  },
  {
   "cell_type": "code",
   "execution_count": null,
   "metadata": {},
   "outputs": [],
   "source": []
  },
  {
   "cell_type": "code",
   "execution_count": null,
   "metadata": {},
   "outputs": [],
   "source": []
  },
  {
   "cell_type": "code",
   "execution_count": null,
   "metadata": {},
   "outputs": [],
   "source": []
  },
  {
   "cell_type": "code",
   "execution_count": null,
   "metadata": {},
   "outputs": [],
   "source": []
  },
  {
   "cell_type": "code",
   "execution_count": null,
   "metadata": {},
   "outputs": [],
   "source": []
  },
  {
   "cell_type": "code",
   "execution_count": null,
   "metadata": {},
   "outputs": [],
   "source": []
  },
  {
   "cell_type": "markdown",
   "metadata": {},
   "source": [
    "#### Step 3: Use the `savings_df` DataFrame to plot a pie chart that visualizes the composition of the member’s portfolio. The y-axis of the pie chart uses `amount`. Be sure to add a title."
   ]
  },
  {
   "cell_type": "code",
   "execution_count": 26,
   "metadata": {},
   "outputs": [
    {
     "data": {
      "image/png": "[encoded data removed]",
      "text/plain": [
       "<Figure size 432x432 with 1 Axes>"
      ]
     },
     "metadata": {},
     "output_type": "display_data"
    }
   ],
   "source": [
    "# Plot the total value of the member's portfolio (crypto and stock/bond) in a pie chart\n",
    "# YOUR CODE HERE\n",
    "savings_df.plot.pie(figsize=(6, 6), title=\"Composition of the saving accounts\", y=\"amount\");\n"
   ]
  },
  {
   "cell_type": "code",
   "execution_count": null,
   "metadata": {},
   "outputs": [],
   "source": []
  },
  {
   "cell_type": "code",
   "execution_count": null,
   "metadata": {},
   "outputs": [],
   "source": []
  },
  {
   "cell_type": "code",
   "execution_count": null,
   "metadata": {},
   "outputs": [],
   "source": []
  },
  {
   "cell_type": "code",
   "execution_count": null,
   "metadata": {},
   "outputs": [],
   "source": []
  },
  {
   "cell_type": "markdown",
   "metadata": {},
   "source": [
    "#### Step 4: Using Python, determine if the current portfolio has enough to create an emergency fund as part of the member’s financial plan. Ideally, an emergency fund should equal to three times the member’s monthly income. To do this, implement the following steps:\n",
    "\n",
    "Step 1. Create a variable named `emergency_fund_value`, and set it equal to three times the value of the member’s `monthly_income` of 12000. (You set this earlier in Part 1).\n",
    "\n",
    "Step 2. Create a series of three if statements to determine if the member’s total portfolio is large enough to fund the emergency portfolio:\n",
    "\n",
    "* If the total portfolio value is greater than the emergency fund value, display a message congratulating the member for having enough money in this fund.\n",
    "\n",
    "* Else if the total portfolio value is equal to the emergency fund value, display a message congratulating the member on reaching this important financial goal.\n",
    "\n",
    "* Else the total portfolio is less than the emergency fund value, so display a message showing how many dollars away the member is from reaching the goal. (Subtract the total portfolio value from the emergency fund value.)\n"
   ]
  },
  {
   "cell_type": "markdown",
   "metadata": {},
   "source": [
    "##### Step 4-1: Create a variable named `emergency_fund_value`, and set it equal to three times the value of the member’s `monthly_income` of 12000. (You set this earlier in Part 1)."
   ]
  },
  {
   "cell_type": "code",
   "execution_count": 27,
   "metadata": {},
   "outputs": [],
   "source": [
    "# Create a variable named emergency_fund_value\n",
    "# YOUR CODE HERE\n",
    "emergency_fund_value = 12000 * 3"
   ]
  },
  {
   "cell_type": "code",
   "execution_count": null,
   "metadata": {},
   "outputs": [],
   "source": []
  },
  {
   "cell_type": "code",
   "execution_count": null,
   "metadata": {},
   "outputs": [],
   "source": []
  },
  {
   "cell_type": "markdown",
   "metadata": {},
   "source": [
    "##### Step 4-2: Create a series of three if statements to determine if the member’s total portfolio is large enough to fund the emergency portfolio:\n",
    "\n",
    "* If the total portfolio value is greater than the emergency fund value, display a message congratulating the member for having enough money in this fund.\n",
    "\n",
    "* Else if the total portfolio value is equal to the emergency fund value, display a message congratulating the member on reaching this important financial goal.\n",
    "\n",
    "* Else the total portfolio is less than the emergency fund value, so display a message showing how many dollars away the member is from reaching the goal. (Subtract the total portfolio value from the emergency fund value.)"
   ]
  },
  {
   "cell_type": "code",
   "execution_count": 28,
   "metadata": {},
   "outputs": [
    {
     "name": "stdout",
     "output_type": "stream",
     "text": [
      "Enough money in this fund\n"
     ]
    }
   ],
   "source": [
    "# Evaluate the possibility of creating an emergency fund with 3 conditions:\n",
    "# YOUR CODE HERE\n",
    "if total_portfolio > emergency_fund_value:\n",
    "    print(\"Enough money in this fund\")\n",
    "    \n",
    "\n",
    "# YOUR CODE HERE\n",
    "elif  total_portfolio == emergency_fund_value:\n",
    "    print(\"Congratulations on roaching this important fiancial goal\")\n",
    "    \n",
    "# YOUR CODE HERE\n",
    "\n",
    "elif  total_portfolio < emergency_fund_value:\n",
    "    Money_require = emergency_fund_value - total_portfolio\n",
    "    print(f\"You need the following amount to reach your saving goal {(Money_require): .4f}% \" )"
   ]
  },
  {
   "cell_type": "code",
   "execution_count": null,
   "metadata": {},
   "outputs": [],
   "source": []
  },
  {
   "cell_type": "code",
   "execution_count": null,
   "metadata": {},
   "outputs": [],
   "source": []
  },
  {
   "cell_type": "code",
   "execution_count": null,
   "metadata": {},
   "outputs": [],
   "source": []
  },
  {
   "cell_type": "code",
   "execution_count": null,
   "metadata": {},
   "outputs": [],
   "source": []
  },
  {
   "cell_type": "markdown",
   "metadata": {},
   "source": [
    "## Part 2: Create a Financial Planner for Retirement"
   ]
  },
  {
   "cell_type": "markdown",
   "metadata": {},
   "source": [
    "### Create the Monte Carlo Simulation\n",
    "\n",
    "In this section, you’ll use the MCForecastTools library to create a Monte Carlo simulation for the member’s savings portfolio. To do this, complete the following steps:\n",
    "\n",
    "1. Make an API call via the Alpaca SDK to get 3 years of historical closing prices for a traditional 60/40 portfolio split: 60% stocks (SPY) and 40% bonds (AGG).\n",
    "\n",
    "2. Run a Monte Carlo simulation of 500 samples and 30 years for the 60/40 portfolio, and then plot the results.The following image shows the overlay line plot resulting from a simulation with these characteristics. However, because a random number generator is used to run each live Monte Carlo simulation, your image will differ slightly from this exact image:\n",
    "\n",
    "![A screenshot depicts the resulting plot.](Images/5-4-monte-carlo-line-plot.png)\n",
    "\n",
    "3. Plot the probability distribution of the Monte Carlo simulation. Plot the probability distribution of the Monte Carlo simulation. The following image shows the histogram plot resulting from a simulation with these characteristics. However, because a random number generator is used to run each live Monte Carlo simulation, your image will differ slightly from this exact image:\n",
    "\n",
    "![A screenshot depicts the histogram plot.](Images/5-4-monte-carlo-histogram.png)\n",
    "\n",
    "4. Generate the summary statistics for the Monte Carlo simulation.\n",
    "\n"
   ]
  },
  {
   "cell_type": "markdown",
   "metadata": {},
   "source": [
    "#### Step 1: Make an API call via the Alpaca SDK to get 3 years of historical closing prices for a traditional 60/40 portfolio split: 60% stocks (SPY) and 40% bonds (AGG)."
   ]
  },
  {
   "cell_type": "code",
   "execution_count": 29,
   "metadata": {},
   "outputs": [],
   "source": [
    "# Set start and end dates of 3 years back from your current date\n",
    "# Alternatively, you can use an end date of 2020-08-07 and work 3 years back from that date \n",
    "# YOUR CODE HERE\n",
    "# YOUR CODE HERE\n",
    "\n",
    "tickers = [\"SPY\", \"AGG\"]"
   ]
  },
  {
   "cell_type": "code",
   "execution_count": null,
   "metadata": {},
   "outputs": [],
   "source": []
  },
  {
   "cell_type": "code",
   "execution_count": 30,
   "metadata": {},
   "outputs": [
    {
     "data": {
      "text/html": [
       "<div>\n",
       "<style scoped>\n",
       "    .dataframe tbody tr th:only-of-type {\n",
       "        vertical-align: middle;\n",
       "    }\n",
       "\n",
       "    .dataframe tbody tr th {\n",
       "        vertical-align: top;\n",
       "    }\n",
       "\n",
       "    .dataframe thead tr th {\n",
       "        text-align: left;\n",
       "    }\n",
       "\n",
       "    .dataframe thead tr:last-of-type th {\n",
       "        text-align: right;\n",
       "    }\n",
       "</style>\n",
       "<table border=\"1\" class=\"dataframe\">\n",
       "  <thead>\n",
       "    <tr>\n",
       "      <th></th>\n",
       "      <th colspan=\"7\" halign=\"left\">SPY</th>\n",
       "      <th colspan=\"7\" halign=\"left\">AGG</th>\n",
       "    </tr>\n",
       "    <tr>\n",
       "      <th></th>\n",
       "      <th>open</th>\n",
       "      <th>high</th>\n",
       "      <th>low</th>\n",
       "      <th>close</th>\n",
       "      <th>volume</th>\n",
       "      <th>trade_count</th>\n",
       "      <th>vwap</th>\n",
       "      <th>open</th>\n",
       "      <th>high</th>\n",
       "      <th>low</th>\n",
       "      <th>close</th>\n",
       "      <th>volume</th>\n",
       "      <th>trade_count</th>\n",
       "      <th>vwap</th>\n",
       "    </tr>\n",
       "    <tr>\n",
       "      <th>timestamp</th>\n",
       "      <th></th>\n",
       "      <th></th>\n",
       "      <th></th>\n",
       "      <th></th>\n",
       "      <th></th>\n",
       "      <th></th>\n",
       "      <th></th>\n",
       "      <th></th>\n",
       "      <th></th>\n",
       "      <th></th>\n",
       "      <th></th>\n",
       "      <th></th>\n",
       "      <th></th>\n",
       "      <th></th>\n",
       "    </tr>\n",
       "  </thead>\n",
       "  <tbody>\n",
       "    <tr>\n",
       "      <th>2019-11-04 05:00:00+00:00</th>\n",
       "      <td>307.86</td>\n",
       "      <td>308.0000</td>\n",
       "      <td>306.96</td>\n",
       "      <td>307.37</td>\n",
       "      <td>60606916</td>\n",
       "      <td>217934</td>\n",
       "      <td>307.058902</td>\n",
       "      <td>112.71</td>\n",
       "      <td>112.72</td>\n",
       "      <td>112.590</td>\n",
       "      <td>112.65</td>\n",
       "      <td>2723845</td>\n",
       "      <td>11743</td>\n",
       "      <td>112.644988</td>\n",
       "    </tr>\n",
       "    <tr>\n",
       "      <th>2019-11-05 05:00:00+00:00</th>\n",
       "      <td>307.59</td>\n",
       "      <td>307.9195</td>\n",
       "      <td>306.71</td>\n",
       "      <td>307.04</td>\n",
       "      <td>42955771</td>\n",
       "      <td>210376</td>\n",
       "      <td>307.186604</td>\n",
       "      <td>112.35</td>\n",
       "      <td>112.38</td>\n",
       "      <td>112.150</td>\n",
       "      <td>112.23</td>\n",
       "      <td>3766399</td>\n",
       "      <td>10707</td>\n",
       "      <td>112.237379</td>\n",
       "    </tr>\n",
       "    <tr>\n",
       "      <th>2019-11-06 05:00:00+00:00</th>\n",
       "      <td>307.03</td>\n",
       "      <td>307.4000</td>\n",
       "      <td>306.06</td>\n",
       "      <td>307.07</td>\n",
       "      <td>46487108</td>\n",
       "      <td>217559</td>\n",
       "      <td>306.885517</td>\n",
       "      <td>112.40</td>\n",
       "      <td>112.51</td>\n",
       "      <td>112.260</td>\n",
       "      <td>112.40</td>\n",
       "      <td>3908982</td>\n",
       "      <td>11879</td>\n",
       "      <td>112.416874</td>\n",
       "    </tr>\n",
       "    <tr>\n",
       "      <th>2019-11-07 05:00:00+00:00</th>\n",
       "      <td>308.57</td>\n",
       "      <td>309.6500</td>\n",
       "      <td>307.66</td>\n",
       "      <td>308.21</td>\n",
       "      <td>54279174</td>\n",
       "      <td>237931</td>\n",
       "      <td>308.471274</td>\n",
       "      <td>112.12</td>\n",
       "      <td>112.12</td>\n",
       "      <td>111.635</td>\n",
       "      <td>111.87</td>\n",
       "      <td>4022690</td>\n",
       "      <td>15189</td>\n",
       "      <td>111.883065</td>\n",
       "    </tr>\n",
       "    <tr>\n",
       "      <th>2019-11-08 05:00:00+00:00</th>\n",
       "      <td>307.80</td>\n",
       "      <td>309.0036</td>\n",
       "      <td>307.03</td>\n",
       "      <td>308.93</td>\n",
       "      <td>49068959</td>\n",
       "      <td>201770</td>\n",
       "      <td>308.340248</td>\n",
       "      <td>111.87</td>\n",
       "      <td>112.10</td>\n",
       "      <td>111.810</td>\n",
       "      <td>111.81</td>\n",
       "      <td>3866625</td>\n",
       "      <td>13190</td>\n",
       "      <td>111.881934</td>\n",
       "    </tr>\n",
       "  </tbody>\n",
       "</table>\n",
       "</div>"
      ],
      "text/plain": [
       "                              SPY                                      \\\n",
       "                             open      high     low   close    volume   \n",
       "timestamp                                                               \n",
       "2019-11-04 05:00:00+00:00  307.86  308.0000  306.96  307.37  60606916   \n",
       "2019-11-05 05:00:00+00:00  307.59  307.9195  306.71  307.04  42955771   \n",
       "2019-11-06 05:00:00+00:00  307.03  307.4000  306.06  307.07  46487108   \n",
       "2019-11-07 05:00:00+00:00  308.57  309.6500  307.66  308.21  54279174   \n",
       "2019-11-08 05:00:00+00:00  307.80  309.0036  307.03  308.93  49068959   \n",
       "\n",
       "                                                      AGG                   \\\n",
       "                          trade_count        vwap    open    high      low   \n",
       "timestamp                                                                    \n",
       "2019-11-04 05:00:00+00:00      217934  307.058902  112.71  112.72  112.590   \n",
       "2019-11-05 05:00:00+00:00      210376  307.186604  112.35  112.38  112.150   \n",
       "2019-11-06 05:00:00+00:00      217559  306.885517  112.40  112.51  112.260   \n",
       "2019-11-07 05:00:00+00:00      237931  308.471274  112.12  112.12  111.635   \n",
       "2019-11-08 05:00:00+00:00      201770  308.340248  111.87  112.10  111.810   \n",
       "\n",
       "                                                                    \n",
       "                            close   volume trade_count        vwap  \n",
       "timestamp                                                           \n",
       "2019-11-04 05:00:00+00:00  112.65  2723845       11743  112.644988  \n",
       "2019-11-05 05:00:00+00:00  112.23  3766399       10707  112.237379  \n",
       "2019-11-06 05:00:00+00:00  112.40  3908982       11879  112.416874  \n",
       "2019-11-07 05:00:00+00:00  111.87  4022690       15189  111.883065  \n",
       "2019-11-08 05:00:00+00:00  111.81  3866625       13190  111.881934  "
      ]
     },
     "metadata": {},
     "output_type": "display_data"
    },
    {
     "data": {
      "text/html": [
       "<div>\n",
       "<style scoped>\n",
       "    .dataframe tbody tr th:only-of-type {\n",
       "        vertical-align: middle;\n",
       "    }\n",
       "\n",
       "    .dataframe tbody tr th {\n",
       "        vertical-align: top;\n",
       "    }\n",
       "\n",
       "    .dataframe thead tr th {\n",
       "        text-align: left;\n",
       "    }\n",
       "\n",
       "    .dataframe thead tr:last-of-type th {\n",
       "        text-align: right;\n",
       "    }\n",
       "</style>\n",
       "<table border=\"1\" class=\"dataframe\">\n",
       "  <thead>\n",
       "    <tr>\n",
       "      <th></th>\n",
       "      <th colspan=\"7\" halign=\"left\">SPY</th>\n",
       "      <th colspan=\"7\" halign=\"left\">AGG</th>\n",
       "    </tr>\n",
       "    <tr>\n",
       "      <th></th>\n",
       "      <th>open</th>\n",
       "      <th>high</th>\n",
       "      <th>low</th>\n",
       "      <th>close</th>\n",
       "      <th>volume</th>\n",
       "      <th>trade_count</th>\n",
       "      <th>vwap</th>\n",
       "      <th>open</th>\n",
       "      <th>high</th>\n",
       "      <th>low</th>\n",
       "      <th>close</th>\n",
       "      <th>volume</th>\n",
       "      <th>trade_count</th>\n",
       "      <th>vwap</th>\n",
       "    </tr>\n",
       "    <tr>\n",
       "      <th>timestamp</th>\n",
       "      <th></th>\n",
       "      <th></th>\n",
       "      <th></th>\n",
       "      <th></th>\n",
       "      <th></th>\n",
       "      <th></th>\n",
       "      <th></th>\n",
       "      <th></th>\n",
       "      <th></th>\n",
       "      <th></th>\n",
       "      <th></th>\n",
       "      <th></th>\n",
       "      <th></th>\n",
       "      <th></th>\n",
       "    </tr>\n",
       "  </thead>\n",
       "  <tbody>\n",
       "    <tr>\n",
       "      <th>2022-10-28 04:00:00+00:00</th>\n",
       "      <td>379.870</td>\n",
       "      <td>389.52</td>\n",
       "      <td>379.68</td>\n",
       "      <td>389.02</td>\n",
       "      <td>100160252</td>\n",
       "      <td>597379</td>\n",
       "      <td>385.648651</td>\n",
       "      <td>95.01</td>\n",
       "      <td>95.460</td>\n",
       "      <td>94.9800</td>\n",
       "      <td>95.22</td>\n",
       "      <td>6224403</td>\n",
       "      <td>25972</td>\n",
       "      <td>95.234097</td>\n",
       "    </tr>\n",
       "    <tr>\n",
       "      <th>2022-10-31 04:00:00+00:00</th>\n",
       "      <td>386.440</td>\n",
       "      <td>388.40</td>\n",
       "      <td>385.26</td>\n",
       "      <td>386.21</td>\n",
       "      <td>94154112</td>\n",
       "      <td>590831</td>\n",
       "      <td>386.876830</td>\n",
       "      <td>95.01</td>\n",
       "      <td>95.060</td>\n",
       "      <td>94.6000</td>\n",
       "      <td>94.90</td>\n",
       "      <td>10885550</td>\n",
       "      <td>31486</td>\n",
       "      <td>94.892440</td>\n",
       "    </tr>\n",
       "    <tr>\n",
       "      <th>2022-11-01 04:00:00+00:00</th>\n",
       "      <td>390.140</td>\n",
       "      <td>390.39</td>\n",
       "      <td>383.29</td>\n",
       "      <td>384.52</td>\n",
       "      <td>83777606</td>\n",
       "      <td>541297</td>\n",
       "      <td>385.596075</td>\n",
       "      <td>95.25</td>\n",
       "      <td>95.350</td>\n",
       "      <td>94.6501</td>\n",
       "      <td>94.86</td>\n",
       "      <td>8075530</td>\n",
       "      <td>29991</td>\n",
       "      <td>94.855912</td>\n",
       "    </tr>\n",
       "    <tr>\n",
       "      <th>2022-11-02 04:00:00+00:00</th>\n",
       "      <td>383.900</td>\n",
       "      <td>388.62</td>\n",
       "      <td>374.76</td>\n",
       "      <td>374.87</td>\n",
       "      <td>123496452</td>\n",
       "      <td>864897</td>\n",
       "      <td>381.528192</td>\n",
       "      <td>94.98</td>\n",
       "      <td>95.510</td>\n",
       "      <td>94.5300</td>\n",
       "      <td>94.70</td>\n",
       "      <td>8348537</td>\n",
       "      <td>32460</td>\n",
       "      <td>94.986916</td>\n",
       "    </tr>\n",
       "    <tr>\n",
       "      <th>2022-11-03 04:00:00+00:00</th>\n",
       "      <td>371.465</td>\n",
       "      <td>374.20</td>\n",
       "      <td>368.79</td>\n",
       "      <td>371.01</td>\n",
       "      <td>85657400</td>\n",
       "      <td>641406</td>\n",
       "      <td>372.172239</td>\n",
       "      <td>93.97</td>\n",
       "      <td>94.505</td>\n",
       "      <td>93.9300</td>\n",
       "      <td>94.35</td>\n",
       "      <td>9310830</td>\n",
       "      <td>31297</td>\n",
       "      <td>94.279681</td>\n",
       "    </tr>\n",
       "  </tbody>\n",
       "</table>\n",
       "</div>"
      ],
      "text/plain": [
       "                               SPY                                     \\\n",
       "                              open    high     low   close     volume   \n",
       "timestamp                                                               \n",
       "2022-10-28 04:00:00+00:00  379.870  389.52  379.68  389.02  100160252   \n",
       "2022-10-31 04:00:00+00:00  386.440  388.40  385.26  386.21   94154112   \n",
       "2022-11-01 04:00:00+00:00  390.140  390.39  383.29  384.52   83777606   \n",
       "2022-11-02 04:00:00+00:00  383.900  388.62  374.76  374.87  123496452   \n",
       "2022-11-03 04:00:00+00:00  371.465  374.20  368.79  371.01   85657400   \n",
       "\n",
       "                                                     AGG                   \\\n",
       "                          trade_count        vwap   open    high      low   \n",
       "timestamp                                                                   \n",
       "2022-10-28 04:00:00+00:00      597379  385.648651  95.01  95.460  94.9800   \n",
       "2022-10-31 04:00:00+00:00      590831  386.876830  95.01  95.060  94.6000   \n",
       "2022-11-01 04:00:00+00:00      541297  385.596075  95.25  95.350  94.6501   \n",
       "2022-11-02 04:00:00+00:00      864897  381.528192  94.98  95.510  94.5300   \n",
       "2022-11-03 04:00:00+00:00      641406  372.172239  93.97  94.505  93.9300   \n",
       "\n",
       "                                                                   \n",
       "                           close    volume trade_count       vwap  \n",
       "timestamp                                                          \n",
       "2022-10-28 04:00:00+00:00  95.22   6224403       25972  95.234097  \n",
       "2022-10-31 04:00:00+00:00  94.90  10885550       31486  94.892440  \n",
       "2022-11-01 04:00:00+00:00  94.86   8075530       29991  94.855912  \n",
       "2022-11-02 04:00:00+00:00  94.70   8348537       32460  94.986916  \n",
       "2022-11-03 04:00:00+00:00  94.35   9310830       31297  94.279681  "
      ]
     },
     "metadata": {},
     "output_type": "display_data"
    }
   ],
   "source": [
    "# Use the Alpaca get_bars function to make the API call to get the 3 years worth of pricing data\n",
    "# The tickers and timeframe parameters should have been set in Part 1 of this activity \n",
    "# The start and end dates should be updated with the information set above\n",
    "# Remember to add the df property to the end of the call so the response is returned as a DataFrame\n",
    "# YOUR CODE HERE\n",
    "\n",
    "start_date = pd.Timestamp(\"2019-11-03\", tz=\"America/New_York\").isoformat()\n",
    "end_date = pd.Timestamp(\"2022-11-03\", tz=\"America/New_York\").isoformat()\n",
    "\n",
    "prices_df =  alpaca.get_bars(\n",
    "    tickers,\n",
    "    timeframe,\n",
    "    start = start_date,\n",
    "    end = end_date\n",
    ").df\n",
    "\n",
    "\n",
    "\n",
    "# Reorganize the DataFrame\n",
    "# Separate ticker data\n",
    "# YOUR CODE HERE\n",
    "\n",
    "SPY = prices_df[prices_df['symbol']=='SPY'].drop('symbol', axis=1)\n",
    "AGG = prices_df[prices_df['symbol']=='AGG'].drop('symbol', axis=1)\n",
    "\n",
    "# Concatenate the ticker DataFrames\n",
    "# YOUR CODE HERE\n",
    "prices_df = pd.concat([SPY, AGG], axis=1, keys=[\"SPY\", \"AGG\"])\n",
    "\n",
    "# Display both the first and last five rows of the DataFrame\n",
    "# YOUR CODE HERE\n",
    "# YOUR CODE HERE\n",
    "display(prices_df.head())\n",
    "display(prices_df.tail())\n"
   ]
  },
  {
   "cell_type": "code",
   "execution_count": null,
   "metadata": {},
   "outputs": [],
   "source": []
  },
  {
   "cell_type": "markdown",
   "metadata": {},
   "source": [
    "#### Step 2: Run a Monte Carlo simulation of 500 samples and 30 years for the 60/40 portfolio, and then plot the results."
   ]
  },
  {
   "cell_type": "code",
   "execution_count": 31,
   "metadata": {},
   "outputs": [
    {
     "data": {
      "text/html": [
       "<div>\n",
       "<style scoped>\n",
       "    .dataframe tbody tr th:only-of-type {\n",
       "        vertical-align: middle;\n",
       "    }\n",
       "\n",
       "    .dataframe tbody tr th {\n",
       "        vertical-align: top;\n",
       "    }\n",
       "\n",
       "    .dataframe thead tr th {\n",
       "        text-align: left;\n",
       "    }\n",
       "\n",
       "    .dataframe thead tr:last-of-type th {\n",
       "        text-align: right;\n",
       "    }\n",
       "</style>\n",
       "<table border=\"1\" class=\"dataframe\">\n",
       "  <thead>\n",
       "    <tr>\n",
       "      <th></th>\n",
       "      <th colspan=\"8\" halign=\"left\">SPY</th>\n",
       "      <th colspan=\"8\" halign=\"left\">AGG</th>\n",
       "    </tr>\n",
       "    <tr>\n",
       "      <th></th>\n",
       "      <th>open</th>\n",
       "      <th>high</th>\n",
       "      <th>low</th>\n",
       "      <th>close</th>\n",
       "      <th>volume</th>\n",
       "      <th>trade_count</th>\n",
       "      <th>vwap</th>\n",
       "      <th>daily_return</th>\n",
       "      <th>open</th>\n",
       "      <th>high</th>\n",
       "      <th>low</th>\n",
       "      <th>close</th>\n",
       "      <th>volume</th>\n",
       "      <th>trade_count</th>\n",
       "      <th>vwap</th>\n",
       "      <th>daily_return</th>\n",
       "    </tr>\n",
       "    <tr>\n",
       "      <th>timestamp</th>\n",
       "      <th></th>\n",
       "      <th></th>\n",
       "      <th></th>\n",
       "      <th></th>\n",
       "      <th></th>\n",
       "      <th></th>\n",
       "      <th></th>\n",
       "      <th></th>\n",
       "      <th></th>\n",
       "      <th></th>\n",
       "      <th></th>\n",
       "      <th></th>\n",
       "      <th></th>\n",
       "      <th></th>\n",
       "      <th></th>\n",
       "      <th></th>\n",
       "    </tr>\n",
       "  </thead>\n",
       "  <tbody>\n",
       "    <tr>\n",
       "      <th>2019-11-04 05:00:00+00:00</th>\n",
       "      <td>307.86</td>\n",
       "      <td>308.0000</td>\n",
       "      <td>306.96</td>\n",
       "      <td>307.37</td>\n",
       "      <td>60606916</td>\n",
       "      <td>217934</td>\n",
       "      <td>307.058902</td>\n",
       "      <td>NaN</td>\n",
       "      <td>112.71</td>\n",
       "      <td>112.72</td>\n",
       "      <td>112.590</td>\n",
       "      <td>112.65</td>\n",
       "      <td>2723845</td>\n",
       "      <td>11743</td>\n",
       "      <td>112.644988</td>\n",
       "      <td>NaN</td>\n",
       "    </tr>\n",
       "    <tr>\n",
       "      <th>2019-11-05 05:00:00+00:00</th>\n",
       "      <td>307.59</td>\n",
       "      <td>307.9195</td>\n",
       "      <td>306.71</td>\n",
       "      <td>307.04</td>\n",
       "      <td>42955771</td>\n",
       "      <td>210376</td>\n",
       "      <td>307.186604</td>\n",
       "      <td>-0.001074</td>\n",
       "      <td>112.35</td>\n",
       "      <td>112.38</td>\n",
       "      <td>112.150</td>\n",
       "      <td>112.23</td>\n",
       "      <td>3766399</td>\n",
       "      <td>10707</td>\n",
       "      <td>112.237379</td>\n",
       "      <td>-0.003728</td>\n",
       "    </tr>\n",
       "    <tr>\n",
       "      <th>2019-11-06 05:00:00+00:00</th>\n",
       "      <td>307.03</td>\n",
       "      <td>307.4000</td>\n",
       "      <td>306.06</td>\n",
       "      <td>307.07</td>\n",
       "      <td>46487108</td>\n",
       "      <td>217559</td>\n",
       "      <td>306.885517</td>\n",
       "      <td>0.000098</td>\n",
       "      <td>112.40</td>\n",
       "      <td>112.51</td>\n",
       "      <td>112.260</td>\n",
       "      <td>112.40</td>\n",
       "      <td>3908982</td>\n",
       "      <td>11879</td>\n",
       "      <td>112.416874</td>\n",
       "      <td>0.001515</td>\n",
       "    </tr>\n",
       "    <tr>\n",
       "      <th>2019-11-07 05:00:00+00:00</th>\n",
       "      <td>308.57</td>\n",
       "      <td>309.6500</td>\n",
       "      <td>307.66</td>\n",
       "      <td>308.21</td>\n",
       "      <td>54279174</td>\n",
       "      <td>237931</td>\n",
       "      <td>308.471274</td>\n",
       "      <td>0.003713</td>\n",
       "      <td>112.12</td>\n",
       "      <td>112.12</td>\n",
       "      <td>111.635</td>\n",
       "      <td>111.87</td>\n",
       "      <td>4022690</td>\n",
       "      <td>15189</td>\n",
       "      <td>111.883065</td>\n",
       "      <td>-0.004715</td>\n",
       "    </tr>\n",
       "    <tr>\n",
       "      <th>2019-11-08 05:00:00+00:00</th>\n",
       "      <td>307.80</td>\n",
       "      <td>309.0036</td>\n",
       "      <td>307.03</td>\n",
       "      <td>308.93</td>\n",
       "      <td>49068959</td>\n",
       "      <td>201770</td>\n",
       "      <td>308.340248</td>\n",
       "      <td>0.002336</td>\n",
       "      <td>111.87</td>\n",
       "      <td>112.10</td>\n",
       "      <td>111.810</td>\n",
       "      <td>111.81</td>\n",
       "      <td>3866625</td>\n",
       "      <td>13190</td>\n",
       "      <td>111.881934</td>\n",
       "      <td>-0.000536</td>\n",
       "    </tr>\n",
       "  </tbody>\n",
       "</table>\n",
       "</div>"
      ],
      "text/plain": [
       "                              SPY                                      \\\n",
       "                             open      high     low   close    volume   \n",
       "timestamp                                                               \n",
       "2019-11-04 05:00:00+00:00  307.86  308.0000  306.96  307.37  60606916   \n",
       "2019-11-05 05:00:00+00:00  307.59  307.9195  306.71  307.04  42955771   \n",
       "2019-11-06 05:00:00+00:00  307.03  307.4000  306.06  307.07  46487108   \n",
       "2019-11-07 05:00:00+00:00  308.57  309.6500  307.66  308.21  54279174   \n",
       "2019-11-08 05:00:00+00:00  307.80  309.0036  307.03  308.93  49068959   \n",
       "\n",
       "                                                                   AGG  \\\n",
       "                          trade_count        vwap daily_return    open   \n",
       "timestamp                                                                \n",
       "2019-11-04 05:00:00+00:00      217934  307.058902          NaN  112.71   \n",
       "2019-11-05 05:00:00+00:00      210376  307.186604    -0.001074  112.35   \n",
       "2019-11-06 05:00:00+00:00      217559  306.885517     0.000098  112.40   \n",
       "2019-11-07 05:00:00+00:00      237931  308.471274     0.003713  112.12   \n",
       "2019-11-08 05:00:00+00:00      201770  308.340248     0.002336  111.87   \n",
       "\n",
       "                                                                         \\\n",
       "                             high      low   close   volume trade_count   \n",
       "timestamp                                                                 \n",
       "2019-11-04 05:00:00+00:00  112.72  112.590  112.65  2723845       11743   \n",
       "2019-11-05 05:00:00+00:00  112.38  112.150  112.23  3766399       10707   \n",
       "2019-11-06 05:00:00+00:00  112.51  112.260  112.40  3908982       11879   \n",
       "2019-11-07 05:00:00+00:00  112.12  111.635  111.87  4022690       15189   \n",
       "2019-11-08 05:00:00+00:00  112.10  111.810  111.81  3866625       13190   \n",
       "\n",
       "                                                    \n",
       "                                 vwap daily_return  \n",
       "timestamp                                           \n",
       "2019-11-04 05:00:00+00:00  112.644988          NaN  \n",
       "2019-11-05 05:00:00+00:00  112.237379    -0.003728  \n",
       "2019-11-06 05:00:00+00:00  112.416874     0.001515  \n",
       "2019-11-07 05:00:00+00:00  111.883065    -0.004715  \n",
       "2019-11-08 05:00:00+00:00  111.881934    -0.000536  "
      ]
     },
     "execution_count": 31,
     "metadata": {},
     "output_type": "execute_result"
    }
   ],
   "source": [
    "# Configure the Monte Carlo simulation to forecast 30 years cumulative returns\n",
    "# The weights should be split 40% to AGG and 60% to SPY.\n",
    "# Run 500 samples.\n",
    "# YOUR CODE HERE\n",
    "MC_even_weight = MCSimulation(\n",
    "    portfolio_data = prices_df,\n",
    "    weights = [.60,.40],\n",
    "    num_simulation = 500,\n",
    "    num_trading_days = 252*30\n",
    ")\n",
    "\n",
    "# Review the simulation input data\n",
    "# YOUR CODE HERE\n",
    "\n",
    "MC_even_weight.portfolio_data.head()"
   ]
  },
  {
   "cell_type": "code",
   "execution_count": null,
   "metadata": {},
   "outputs": [],
   "source": []
  },
  {
   "cell_type": "code",
   "execution_count": 32,
   "metadata": {},
   "outputs": [
    {
     "name": "stdout",
     "output_type": "stream",
     "text": [
      "Running Monte Carlo simulation number 0.\n",
      "Running Monte Carlo simulation number 10.\n",
      "Running Monte Carlo simulation number 20.\n",
      "Running Monte Carlo simulation number 30.\n",
      "Running Monte Carlo simulation number 40.\n",
      "Running Monte Carlo simulation number 50.\n",
      "Running Monte Carlo simulation number 60.\n",
      "Running Monte Carlo simulation number 70.\n",
      "Running Monte Carlo simulation number 80.\n",
      "Running Monte Carlo simulation number 90.\n",
      "Running Monte Carlo simulation number 100.\n",
      "Running Monte Carlo simulation number 110.\n",
      "Running Monte Carlo simulation number 120.\n",
      "Running Monte Carlo simulation number 130.\n",
      "Running Monte Carlo simulation number 140.\n",
      "Running Monte Carlo simulation number 150.\n",
      "Running Monte Carlo simulation number 160.\n",
      "Running Monte Carlo simulation number 170.\n",
      "Running Monte Carlo simulation number 180.\n",
      "Running Monte Carlo simulation number 190.\n",
      "Running Monte Carlo simulation number 200.\n",
      "Running Monte Carlo simulation number 210.\n",
      "Running Monte Carlo simulation number 220.\n",
      "Running Monte Carlo simulation number 230.\n",
      "Running Monte Carlo simulation number 240.\n",
      "Running Monte Carlo simulation number 250.\n",
      "Running Monte Carlo simulation number 260.\n",
      "Running Monte Carlo simulation number 270.\n",
      "Running Monte Carlo simulation number 280.\n",
      "Running Monte Carlo simulation number 290.\n",
      "Running Monte Carlo simulation number 300.\n",
      "Running Monte Carlo simulation number 310.\n",
      "Running Monte Carlo simulation number 320.\n",
      "Running Monte Carlo simulation number 330.\n",
      "Running Monte Carlo simulation number 340.\n",
      "Running Monte Carlo simulation number 350.\n",
      "Running Monte Carlo simulation number 360.\n",
      "Running Monte Carlo simulation number 370.\n",
      "Running Monte Carlo simulation number 380.\n",
      "Running Monte Carlo simulation number 390.\n",
      "Running Monte Carlo simulation number 400.\n",
      "Running Monte Carlo simulation number 410.\n",
      "Running Monte Carlo simulation number 420.\n",
      "Running Monte Carlo simulation number 430.\n",
      "Running Monte Carlo simulation number 440.\n",
      "Running Monte Carlo simulation number 450.\n",
      "Running Monte Carlo simulation number 460.\n",
      "Running Monte Carlo simulation number 470.\n",
      "Running Monte Carlo simulation number 480.\n",
      "Running Monte Carlo simulation number 490.\n"
     ]
    },
    {
     "data": {
      "text/html": [
       "<div>\n",
       "<style scoped>\n",
       "    .dataframe tbody tr th:only-of-type {\n",
       "        vertical-align: middle;\n",
       "    }\n",
       "\n",
       "    .dataframe tbody tr th {\n",
       "        vertical-align: top;\n",
       "    }\n",
       "\n",
       "    .dataframe thead th {\n",
       "        text-align: right;\n",
       "    }\n",
       "</style>\n",
       "<table border=\"1\" class=\"dataframe\">\n",
       "  <thead>\n",
       "    <tr style=\"text-align: right;\">\n",
       "      <th></th>\n",
       "      <th>0</th>\n",
       "      <th>1</th>\n",
       "      <th>2</th>\n",
       "      <th>3</th>\n",
       "      <th>4</th>\n",
       "      <th>5</th>\n",
       "      <th>6</th>\n",
       "      <th>7</th>\n",
       "      <th>8</th>\n",
       "      <th>9</th>\n",
       "      <th>...</th>\n",
       "      <th>490</th>\n",
       "      <th>491</th>\n",
       "      <th>492</th>\n",
       "      <th>493</th>\n",
       "      <th>494</th>\n",
       "      <th>495</th>\n",
       "      <th>496</th>\n",
       "      <th>497</th>\n",
       "      <th>498</th>\n",
       "      <th>499</th>\n",
       "    </tr>\n",
       "  </thead>\n",
       "  <tbody>\n",
       "    <tr>\n",
       "      <th>0</th>\n",
       "      <td>1.000000</td>\n",
       "      <td>1.000000</td>\n",
       "      <td>1.000000</td>\n",
       "      <td>1.000000</td>\n",
       "      <td>1.000000</td>\n",
       "      <td>1.000000</td>\n",
       "      <td>1.000000</td>\n",
       "      <td>1.000000</td>\n",
       "      <td>1.000000</td>\n",
       "      <td>1.000000</td>\n",
       "      <td>...</td>\n",
       "      <td>1.000000</td>\n",
       "      <td>1.000000</td>\n",
       "      <td>1.000000</td>\n",
       "      <td>1.000000</td>\n",
       "      <td>1.000000</td>\n",
       "      <td>1.000000</td>\n",
       "      <td>1.000000</td>\n",
       "      <td>1.000000</td>\n",
       "      <td>1.000000</td>\n",
       "      <td>1.000000</td>\n",
       "    </tr>\n",
       "    <tr>\n",
       "      <th>1</th>\n",
       "      <td>0.998302</td>\n",
       "      <td>1.006780</td>\n",
       "      <td>1.004888</td>\n",
       "      <td>0.998637</td>\n",
       "      <td>0.992479</td>\n",
       "      <td>0.994833</td>\n",
       "      <td>0.996952</td>\n",
       "      <td>0.997456</td>\n",
       "      <td>0.994248</td>\n",
       "      <td>1.008218</td>\n",
       "      <td>...</td>\n",
       "      <td>1.020296</td>\n",
       "      <td>0.990787</td>\n",
       "      <td>1.008379</td>\n",
       "      <td>1.002974</td>\n",
       "      <td>1.007899</td>\n",
       "      <td>1.003546</td>\n",
       "      <td>0.996771</td>\n",
       "      <td>1.002207</td>\n",
       "      <td>1.006936</td>\n",
       "      <td>0.989575</td>\n",
       "    </tr>\n",
       "    <tr>\n",
       "      <th>2</th>\n",
       "      <td>1.004310</td>\n",
       "      <td>1.016380</td>\n",
       "      <td>1.004580</td>\n",
       "      <td>0.990478</td>\n",
       "      <td>0.991372</td>\n",
       "      <td>0.994170</td>\n",
       "      <td>0.981880</td>\n",
       "      <td>1.002219</td>\n",
       "      <td>0.988815</td>\n",
       "      <td>1.002536</td>\n",
       "      <td>...</td>\n",
       "      <td>1.025796</td>\n",
       "      <td>0.980572</td>\n",
       "      <td>1.001050</td>\n",
       "      <td>1.017251</td>\n",
       "      <td>1.015678</td>\n",
       "      <td>1.009843</td>\n",
       "      <td>0.997664</td>\n",
       "      <td>1.013711</td>\n",
       "      <td>1.013780</td>\n",
       "      <td>0.979070</td>\n",
       "    </tr>\n",
       "    <tr>\n",
       "      <th>3</th>\n",
       "      <td>0.999004</td>\n",
       "      <td>1.030158</td>\n",
       "      <td>1.005221</td>\n",
       "      <td>0.991307</td>\n",
       "      <td>0.989840</td>\n",
       "      <td>0.972620</td>\n",
       "      <td>0.986908</td>\n",
       "      <td>1.014841</td>\n",
       "      <td>0.995787</td>\n",
       "      <td>1.007452</td>\n",
       "      <td>...</td>\n",
       "      <td>1.030907</td>\n",
       "      <td>0.977892</td>\n",
       "      <td>1.007358</td>\n",
       "      <td>1.002875</td>\n",
       "      <td>1.026691</td>\n",
       "      <td>0.996774</td>\n",
       "      <td>1.000349</td>\n",
       "      <td>1.024603</td>\n",
       "      <td>1.010454</td>\n",
       "      <td>0.970108</td>\n",
       "    </tr>\n",
       "    <tr>\n",
       "      <th>4</th>\n",
       "      <td>0.985513</td>\n",
       "      <td>1.037513</td>\n",
       "      <td>0.996255</td>\n",
       "      <td>0.991067</td>\n",
       "      <td>0.991414</td>\n",
       "      <td>0.978592</td>\n",
       "      <td>0.992713</td>\n",
       "      <td>1.002921</td>\n",
       "      <td>0.993232</td>\n",
       "      <td>1.013849</td>\n",
       "      <td>...</td>\n",
       "      <td>1.036924</td>\n",
       "      <td>0.973020</td>\n",
       "      <td>1.030715</td>\n",
       "      <td>0.988721</td>\n",
       "      <td>1.034791</td>\n",
       "      <td>1.011971</td>\n",
       "      <td>1.009945</td>\n",
       "      <td>1.039198</td>\n",
       "      <td>1.021900</td>\n",
       "      <td>0.972560</td>\n",
       "    </tr>\n",
       "    <tr>\n",
       "      <th>...</th>\n",
       "      <td>...</td>\n",
       "      <td>...</td>\n",
       "      <td>...</td>\n",
       "      <td>...</td>\n",
       "      <td>...</td>\n",
       "      <td>...</td>\n",
       "      <td>...</td>\n",
       "      <td>...</td>\n",
       "      <td>...</td>\n",
       "      <td>...</td>\n",
       "      <td>...</td>\n",
       "      <td>...</td>\n",
       "      <td>...</td>\n",
       "      <td>...</td>\n",
       "      <td>...</td>\n",
       "      <td>...</td>\n",
       "      <td>...</td>\n",
       "      <td>...</td>\n",
       "      <td>...</td>\n",
       "      <td>...</td>\n",
       "      <td>...</td>\n",
       "    </tr>\n",
       "    <tr>\n",
       "      <th>7556</th>\n",
       "      <td>1.826532</td>\n",
       "      <td>1.338728</td>\n",
       "      <td>1.254389</td>\n",
       "      <td>1.651426</td>\n",
       "      <td>1.232874</td>\n",
       "      <td>1.439138</td>\n",
       "      <td>4.681021</td>\n",
       "      <td>1.557667</td>\n",
       "      <td>0.562724</td>\n",
       "      <td>3.537901</td>\n",
       "      <td>...</td>\n",
       "      <td>3.879732</td>\n",
       "      <td>2.736075</td>\n",
       "      <td>2.778822</td>\n",
       "      <td>2.223465</td>\n",
       "      <td>1.404001</td>\n",
       "      <td>1.349282</td>\n",
       "      <td>0.724687</td>\n",
       "      <td>3.746176</td>\n",
       "      <td>1.135803</td>\n",
       "      <td>1.188452</td>\n",
       "    </tr>\n",
       "    <tr>\n",
       "      <th>7557</th>\n",
       "      <td>1.836863</td>\n",
       "      <td>1.341188</td>\n",
       "      <td>1.251456</td>\n",
       "      <td>1.642151</td>\n",
       "      <td>1.244107</td>\n",
       "      <td>1.420645</td>\n",
       "      <td>4.676185</td>\n",
       "      <td>1.548893</td>\n",
       "      <td>0.568299</td>\n",
       "      <td>3.624788</td>\n",
       "      <td>...</td>\n",
       "      <td>3.912809</td>\n",
       "      <td>2.740548</td>\n",
       "      <td>2.737472</td>\n",
       "      <td>2.236285</td>\n",
       "      <td>1.403074</td>\n",
       "      <td>1.339079</td>\n",
       "      <td>0.721514</td>\n",
       "      <td>3.721524</td>\n",
       "      <td>1.134142</td>\n",
       "      <td>1.185182</td>\n",
       "    </tr>\n",
       "    <tr>\n",
       "      <th>7558</th>\n",
       "      <td>1.838891</td>\n",
       "      <td>1.344758</td>\n",
       "      <td>1.255513</td>\n",
       "      <td>1.621885</td>\n",
       "      <td>1.251768</td>\n",
       "      <td>1.427595</td>\n",
       "      <td>4.743580</td>\n",
       "      <td>1.532473</td>\n",
       "      <td>0.559564</td>\n",
       "      <td>3.662427</td>\n",
       "      <td>...</td>\n",
       "      <td>3.935045</td>\n",
       "      <td>2.740208</td>\n",
       "      <td>2.737496</td>\n",
       "      <td>2.217518</td>\n",
       "      <td>1.410434</td>\n",
       "      <td>1.361617</td>\n",
       "      <td>0.728329</td>\n",
       "      <td>3.648208</td>\n",
       "      <td>1.154784</td>\n",
       "      <td>1.186550</td>\n",
       "    </tr>\n",
       "    <tr>\n",
       "      <th>7559</th>\n",
       "      <td>1.845764</td>\n",
       "      <td>1.324118</td>\n",
       "      <td>1.250930</td>\n",
       "      <td>1.644006</td>\n",
       "      <td>1.248035</td>\n",
       "      <td>1.433699</td>\n",
       "      <td>4.790684</td>\n",
       "      <td>1.541131</td>\n",
       "      <td>0.568114</td>\n",
       "      <td>3.711226</td>\n",
       "      <td>...</td>\n",
       "      <td>3.893694</td>\n",
       "      <td>2.789306</td>\n",
       "      <td>2.733645</td>\n",
       "      <td>2.257451</td>\n",
       "      <td>1.416029</td>\n",
       "      <td>1.362437</td>\n",
       "      <td>0.726695</td>\n",
       "      <td>3.658834</td>\n",
       "      <td>1.147555</td>\n",
       "      <td>1.196302</td>\n",
       "    </tr>\n",
       "    <tr>\n",
       "      <th>7560</th>\n",
       "      <td>1.820049</td>\n",
       "      <td>1.313760</td>\n",
       "      <td>1.245243</td>\n",
       "      <td>1.641392</td>\n",
       "      <td>1.237242</td>\n",
       "      <td>1.479209</td>\n",
       "      <td>4.780531</td>\n",
       "      <td>1.555002</td>\n",
       "      <td>0.569227</td>\n",
       "      <td>3.689322</td>\n",
       "      <td>...</td>\n",
       "      <td>3.929668</td>\n",
       "      <td>2.759581</td>\n",
       "      <td>2.732941</td>\n",
       "      <td>2.246789</td>\n",
       "      <td>1.422251</td>\n",
       "      <td>1.358477</td>\n",
       "      <td>0.730492</td>\n",
       "      <td>3.705942</td>\n",
       "      <td>1.162713</td>\n",
       "      <td>1.198466</td>\n",
       "    </tr>\n",
       "  </tbody>\n",
       "</table>\n",
       "<p>7561 rows × 500 columns</p>\n",
       "</div>"
      ],
      "text/plain": [
       "           0         1         2         3         4         5         6    \\\n",
       "0     1.000000  1.000000  1.000000  1.000000  1.000000  1.000000  1.000000   \n",
       "1     0.998302  1.006780  1.004888  0.998637  0.992479  0.994833  0.996952   \n",
       "2     1.004310  1.016380  1.004580  0.990478  0.991372  0.994170  0.981880   \n",
       "3     0.999004  1.030158  1.005221  0.991307  0.989840  0.972620  0.986908   \n",
       "4     0.985513  1.037513  0.996255  0.991067  0.991414  0.978592  0.992713   \n",
       "...        ...       ...       ...       ...       ...       ...       ...   \n",
       "7556  1.826532  1.338728  1.254389  1.651426  1.232874  1.439138  4.681021   \n",
       "7557  1.836863  1.341188  1.251456  1.642151  1.244107  1.420645  4.676185   \n",
       "7558  1.838891  1.344758  1.255513  1.621885  1.251768  1.427595  4.743580   \n",
       "7559  1.845764  1.324118  1.250930  1.644006  1.248035  1.433699  4.790684   \n",
       "7560  1.820049  1.313760  1.245243  1.641392  1.237242  1.479209  4.780531   \n",
       "\n",
       "           7         8         9    ...       490       491       492  \\\n",
       "0     1.000000  1.000000  1.000000  ...  1.000000  1.000000  1.000000   \n",
       "1     0.997456  0.994248  1.008218  ...  1.020296  0.990787  1.008379   \n",
       "2     1.002219  0.988815  1.002536  ...  1.025796  0.980572  1.001050   \n",
       "3     1.014841  0.995787  1.007452  ...  1.030907  0.977892  1.007358   \n",
       "4     1.002921  0.993232  1.013849  ...  1.036924  0.973020  1.030715   \n",
       "...        ...       ...       ...  ...       ...       ...       ...   \n",
       "7556  1.557667  0.562724  3.537901  ...  3.879732  2.736075  2.778822   \n",
       "7557  1.548893  0.568299  3.624788  ...  3.912809  2.740548  2.737472   \n",
       "7558  1.532473  0.559564  3.662427  ...  3.935045  2.740208  2.737496   \n",
       "7559  1.541131  0.568114  3.711226  ...  3.893694  2.789306  2.733645   \n",
       "7560  1.555002  0.569227  3.689322  ...  3.929668  2.759581  2.732941   \n",
       "\n",
       "           493       494       495       496       497       498       499  \n",
       "0     1.000000  1.000000  1.000000  1.000000  1.000000  1.000000  1.000000  \n",
       "1     1.002974  1.007899  1.003546  0.996771  1.002207  1.006936  0.989575  \n",
       "2     1.017251  1.015678  1.009843  0.997664  1.013711  1.013780  0.979070  \n",
       "3     1.002875  1.026691  0.996774  1.000349  1.024603  1.010454  0.970108  \n",
       "4     0.988721  1.034791  1.011971  1.009945  1.039198  1.021900  0.972560  \n",
       "...        ...       ...       ...       ...       ...       ...       ...  \n",
       "7556  2.223465  1.404001  1.349282  0.724687  3.746176  1.135803  1.188452  \n",
       "7557  2.236285  1.403074  1.339079  0.721514  3.721524  1.134142  1.185182  \n",
       "7558  2.217518  1.410434  1.361617  0.728329  3.648208  1.154784  1.186550  \n",
       "7559  2.257451  1.416029  1.362437  0.726695  3.658834  1.147555  1.196302  \n",
       "7560  2.246789  1.422251  1.358477  0.730492  3.705942  1.162713  1.198466  \n",
       "\n",
       "[7561 rows x 500 columns]"
      ]
     },
     "execution_count": 32,
     "metadata": {},
     "output_type": "execute_result"
    }
   ],
   "source": [
    "# Run the Monte Carlo simulation to forecast 30 years cumulative returns\n",
    "# YOUR CODE HERE\n",
    "MC_even_weight.calc_cumulative_return()"
   ]
  },
  {
   "cell_type": "code",
   "execution_count": null,
   "metadata": {},
   "outputs": [],
   "source": []
  },
  {
   "cell_type": "code",
   "execution_count": 33,
   "metadata": {},
   "outputs": [
    {
     "data": {
      "image/png": "[encoded data removed]",
      "text/plain": [
       "<Figure size 432x288 with 1 Axes>"
      ]
     },
     "metadata": {
      "needs_background": "light"
     },
     "output_type": "display_data"
    }
   ],
   "source": [
    "# Visualize the 30-year Monte Carlo simulation by creating an\n",
    "# overlay line plot\n",
    "# YOUR CODE HERE\n",
    "even_weight_line_plot = MC_even_weight.plot_simulation()\n"
   ]
  },
  {
   "cell_type": "code",
   "execution_count": null,
   "metadata": {},
   "outputs": [],
   "source": []
  },
  {
   "cell_type": "markdown",
   "metadata": {},
   "source": [
    "#### Step 3: Plot the probability distribution of the Monte Carlo simulation."
   ]
  },
  {
   "cell_type": "code",
   "execution_count": 34,
   "metadata": {},
   "outputs": [
    {
     "data": {
      "image/png": "[encoded data removed]",
      "text/plain": [
       "<Figure size 432x288 with 1 Axes>"
      ]
     },
     "metadata": {
      "needs_background": "light"
     },
     "output_type": "display_data"
    }
   ],
   "source": [
    "# Visualize the probability distribution of the 30-year Monte Carlo simulation \n",
    "# by plotting a histogram\n",
    "# YOUR CODE HERE\n",
    "even_weight_distribution_plot = MC_even_weight.plot_distribution()"
   ]
  },
  {
   "cell_type": "code",
   "execution_count": null,
   "metadata": {},
   "outputs": [],
   "source": []
  },
  {
   "cell_type": "markdown",
   "metadata": {},
   "source": [
    "#### Step 4: Generate the summary statistics for the Monte Carlo simulation."
   ]
  },
  {
   "cell_type": "code",
   "execution_count": 35,
   "metadata": {},
   "outputs": [
    {
     "name": "stdout",
     "output_type": "stream",
     "text": [
      "count           500.000000\n",
      "mean              2.709999\n",
      "std               2.701903\n",
      "min               0.224925\n",
      "25%               1.113091\n",
      "50%               1.908083\n",
      "75%               3.422916\n",
      "max              24.761745\n",
      "95% CI Lower      0.443940\n",
      "95% CI Upper      9.540018\n",
      "Name: 7560, dtype: float64\n"
     ]
    }
   ],
   "source": [
    "# Generate summary statistics from the 30-year Monte Carlo simulation results\n",
    "# Save the results as a variable\n",
    "# YOUR CODE HERE\n",
    "even_weight_table = MC_even_weight.summarize_cumulative_return()\n",
    "\n",
    "# Review the 30-year Monte Carlo summary statistics\n",
    "# YOUR CODE HERE\n",
    "print(even_weight_table)"
   ]
  },
  {
   "cell_type": "code",
   "execution_count": null,
   "metadata": {},
   "outputs": [],
   "source": []
  },
  {
   "cell_type": "markdown",
   "metadata": {},
   "source": [
    "### Analyze the Retirement Portfolio Forecasts\n",
    "\n",
    "Using the current value of only the stock and bond portion of the member's portfolio and the summary statistics that you generated from the Monte Carlo simulation, answer the following question in your Jupyter notebook:\n",
    "\n",
    "-  What are the lower and upper bounds for the expected value of the portfolio with a 95% confidence interval?\n"
   ]
  },
  {
   "cell_type": "code",
   "execution_count": 36,
   "metadata": {},
   "outputs": [
    {
     "data": {
      "text/plain": [
       "74545.839"
      ]
     },
     "metadata": {},
     "output_type": "display_data"
    }
   ],
   "source": [
    "# Print the current balance of the stock and bond portion of the members portfolio\n",
    "# YOUR CODE HERE\n",
    "display(total_portfolio)\n"
   ]
  },
  {
   "cell_type": "code",
   "execution_count": null,
   "metadata": {},
   "outputs": [],
   "source": []
  },
  {
   "cell_type": "code",
   "execution_count": 40,
   "metadata": {},
   "outputs": [
    {
     "name": "stdout",
     "output_type": "stream",
     "text": [
      "There is a 95% chance that an initial investment of the total portfolio $74545.839 with an  60/40 weight portfolio over the next 30 years will end within in the range of $ 33093.86 and $ 711168.62.\n"
     ]
    }
   ],
   "source": [
    "# Use the lower and upper `95%` confidence intervals to calculate the range of the possible outcomes for the current stock/bond portfolio\n",
    "ci_lower_thirty_cumulative_return = even_weight_table[8] * total_portfolio\n",
    "ci_upper_thirty_cumulative_return = even_weight_table[9] * total_portfolio\n",
    " \n",
    "# Print the result of your calculations\n",
    "# YOUR CODE HERE\n",
    "print(f\"There is a 95% chance that an initial investment of the total portfolio $74545.839\"\n",
    "      f\" with an  60/40 weight portfolio over the next 30 years will end within in the range of\"\n",
    "      f\" ${ci_lower_thirty_cumulative_return: .2f} and ${ci_upper_thirty_cumulative_return: .2f}.\")"
   ]
  },
  {
   "cell_type": "code",
   "execution_count": null,
   "metadata": {},
   "outputs": [],
   "source": []
  },
  {
   "cell_type": "code",
   "execution_count": null,
   "metadata": {},
   "outputs": [],
   "source": []
  },
  {
   "cell_type": "code",
   "execution_count": null,
   "metadata": {},
   "outputs": [],
   "source": []
  },
  {
   "cell_type": "code",
   "execution_count": null,
   "metadata": {},
   "outputs": [],
   "source": []
  },
  {
   "cell_type": "markdown",
   "metadata": {},
   "source": [
    "### Forecast Cumulative Returns in 10 Years\n",
    "\n",
    "The CTO of the credit union is impressed with your work on these planning tools but wonders if 30 years is a long time to wait until retirement. So, your next task is to adjust the retirement portfolio and run a new Monte Carlo simulation to find out if the changes will allow members to retire earlier.\n",
    "\n",
    "For this new Monte Carlo simulation, do the following: \n",
    "\n",
    "- Forecast the cumulative returns for 10 years from now. Because of the shortened investment horizon (30 years to 10 years), the portfolio needs to invest more heavily in the riskier asset&mdash;that is, stock&mdash;to help accumulate wealth for retirement. \n",
    "\n",
    "- Adjust the weights of the retirement portfolio so that the composition for the Monte Carlo simulation consists of 20% bonds and 80% stocks. \n",
    "\n",
    "- Run the simulation over 500 samples, and use the same data that the API call to Alpaca generated.\n",
    "\n",
    "- Based on the new Monte Carlo simulation, answer the following questions in your Jupyter notebook:\n",
    "\n",
    "    - Using the current value of only the stock and bond portion of the member's portfolio and the summary statistics that you generated from the new Monte Carlo simulation, what are the lower and upper bounds for the expected value of the portfolio (with the new weights) with a 95% confidence interval?\n",
    "\n",
    "    - Will weighting the portfolio more heavily toward stocks allow the credit union members to retire after only 10 years?\n"
   ]
  },
  {
   "cell_type": "code",
   "execution_count": 41,
   "metadata": {},
   "outputs": [
    {
     "data": {
      "text/html": [
       "<div>\n",
       "<style scoped>\n",
       "    .dataframe tbody tr th:only-of-type {\n",
       "        vertical-align: middle;\n",
       "    }\n",
       "\n",
       "    .dataframe tbody tr th {\n",
       "        vertical-align: top;\n",
       "    }\n",
       "\n",
       "    .dataframe thead tr th {\n",
       "        text-align: left;\n",
       "    }\n",
       "\n",
       "    .dataframe thead tr:last-of-type th {\n",
       "        text-align: right;\n",
       "    }\n",
       "</style>\n",
       "<table border=\"1\" class=\"dataframe\">\n",
       "  <thead>\n",
       "    <tr>\n",
       "      <th></th>\n",
       "      <th colspan=\"8\" halign=\"left\">SPY</th>\n",
       "      <th colspan=\"8\" halign=\"left\">AGG</th>\n",
       "    </tr>\n",
       "    <tr>\n",
       "      <th></th>\n",
       "      <th>open</th>\n",
       "      <th>high</th>\n",
       "      <th>low</th>\n",
       "      <th>close</th>\n",
       "      <th>volume</th>\n",
       "      <th>trade_count</th>\n",
       "      <th>vwap</th>\n",
       "      <th>daily_return</th>\n",
       "      <th>open</th>\n",
       "      <th>high</th>\n",
       "      <th>low</th>\n",
       "      <th>close</th>\n",
       "      <th>volume</th>\n",
       "      <th>trade_count</th>\n",
       "      <th>vwap</th>\n",
       "      <th>daily_return</th>\n",
       "    </tr>\n",
       "    <tr>\n",
       "      <th>timestamp</th>\n",
       "      <th></th>\n",
       "      <th></th>\n",
       "      <th></th>\n",
       "      <th></th>\n",
       "      <th></th>\n",
       "      <th></th>\n",
       "      <th></th>\n",
       "      <th></th>\n",
       "      <th></th>\n",
       "      <th></th>\n",
       "      <th></th>\n",
       "      <th></th>\n",
       "      <th></th>\n",
       "      <th></th>\n",
       "      <th></th>\n",
       "      <th></th>\n",
       "    </tr>\n",
       "  </thead>\n",
       "  <tbody>\n",
       "    <tr>\n",
       "      <th>2019-11-04 05:00:00+00:00</th>\n",
       "      <td>307.86</td>\n",
       "      <td>308.0000</td>\n",
       "      <td>306.96</td>\n",
       "      <td>307.37</td>\n",
       "      <td>60606916</td>\n",
       "      <td>217934</td>\n",
       "      <td>307.058902</td>\n",
       "      <td>NaN</td>\n",
       "      <td>112.71</td>\n",
       "      <td>112.72</td>\n",
       "      <td>112.590</td>\n",
       "      <td>112.65</td>\n",
       "      <td>2723845</td>\n",
       "      <td>11743</td>\n",
       "      <td>112.644988</td>\n",
       "      <td>NaN</td>\n",
       "    </tr>\n",
       "    <tr>\n",
       "      <th>2019-11-05 05:00:00+00:00</th>\n",
       "      <td>307.59</td>\n",
       "      <td>307.9195</td>\n",
       "      <td>306.71</td>\n",
       "      <td>307.04</td>\n",
       "      <td>42955771</td>\n",
       "      <td>210376</td>\n",
       "      <td>307.186604</td>\n",
       "      <td>-0.001074</td>\n",
       "      <td>112.35</td>\n",
       "      <td>112.38</td>\n",
       "      <td>112.150</td>\n",
       "      <td>112.23</td>\n",
       "      <td>3766399</td>\n",
       "      <td>10707</td>\n",
       "      <td>112.237379</td>\n",
       "      <td>-0.003728</td>\n",
       "    </tr>\n",
       "    <tr>\n",
       "      <th>2019-11-06 05:00:00+00:00</th>\n",
       "      <td>307.03</td>\n",
       "      <td>307.4000</td>\n",
       "      <td>306.06</td>\n",
       "      <td>307.07</td>\n",
       "      <td>46487108</td>\n",
       "      <td>217559</td>\n",
       "      <td>306.885517</td>\n",
       "      <td>0.000098</td>\n",
       "      <td>112.40</td>\n",
       "      <td>112.51</td>\n",
       "      <td>112.260</td>\n",
       "      <td>112.40</td>\n",
       "      <td>3908982</td>\n",
       "      <td>11879</td>\n",
       "      <td>112.416874</td>\n",
       "      <td>0.001515</td>\n",
       "    </tr>\n",
       "    <tr>\n",
       "      <th>2019-11-07 05:00:00+00:00</th>\n",
       "      <td>308.57</td>\n",
       "      <td>309.6500</td>\n",
       "      <td>307.66</td>\n",
       "      <td>308.21</td>\n",
       "      <td>54279174</td>\n",
       "      <td>237931</td>\n",
       "      <td>308.471274</td>\n",
       "      <td>0.003713</td>\n",
       "      <td>112.12</td>\n",
       "      <td>112.12</td>\n",
       "      <td>111.635</td>\n",
       "      <td>111.87</td>\n",
       "      <td>4022690</td>\n",
       "      <td>15189</td>\n",
       "      <td>111.883065</td>\n",
       "      <td>-0.004715</td>\n",
       "    </tr>\n",
       "    <tr>\n",
       "      <th>2019-11-08 05:00:00+00:00</th>\n",
       "      <td>307.80</td>\n",
       "      <td>309.0036</td>\n",
       "      <td>307.03</td>\n",
       "      <td>308.93</td>\n",
       "      <td>49068959</td>\n",
       "      <td>201770</td>\n",
       "      <td>308.340248</td>\n",
       "      <td>0.002336</td>\n",
       "      <td>111.87</td>\n",
       "      <td>112.10</td>\n",
       "      <td>111.810</td>\n",
       "      <td>111.81</td>\n",
       "      <td>3866625</td>\n",
       "      <td>13190</td>\n",
       "      <td>111.881934</td>\n",
       "      <td>-0.000536</td>\n",
       "    </tr>\n",
       "  </tbody>\n",
       "</table>\n",
       "</div>"
      ],
      "text/plain": [
       "                              SPY                                      \\\n",
       "                             open      high     low   close    volume   \n",
       "timestamp                                                               \n",
       "2019-11-04 05:00:00+00:00  307.86  308.0000  306.96  307.37  60606916   \n",
       "2019-11-05 05:00:00+00:00  307.59  307.9195  306.71  307.04  42955771   \n",
       "2019-11-06 05:00:00+00:00  307.03  307.4000  306.06  307.07  46487108   \n",
       "2019-11-07 05:00:00+00:00  308.57  309.6500  307.66  308.21  54279174   \n",
       "2019-11-08 05:00:00+00:00  307.80  309.0036  307.03  308.93  49068959   \n",
       "\n",
       "                                                                   AGG  \\\n",
       "                          trade_count        vwap daily_return    open   \n",
       "timestamp                                                                \n",
       "2019-11-04 05:00:00+00:00      217934  307.058902          NaN  112.71   \n",
       "2019-11-05 05:00:00+00:00      210376  307.186604    -0.001074  112.35   \n",
       "2019-11-06 05:00:00+00:00      217559  306.885517     0.000098  112.40   \n",
       "2019-11-07 05:00:00+00:00      237931  308.471274     0.003713  112.12   \n",
       "2019-11-08 05:00:00+00:00      201770  308.340248     0.002336  111.87   \n",
       "\n",
       "                                                                         \\\n",
       "                             high      low   close   volume trade_count   \n",
       "timestamp                                                                 \n",
       "2019-11-04 05:00:00+00:00  112.72  112.590  112.65  2723845       11743   \n",
       "2019-11-05 05:00:00+00:00  112.38  112.150  112.23  3766399       10707   \n",
       "2019-11-06 05:00:00+00:00  112.51  112.260  112.40  3908982       11879   \n",
       "2019-11-07 05:00:00+00:00  112.12  111.635  111.87  4022690       15189   \n",
       "2019-11-08 05:00:00+00:00  112.10  111.810  111.81  3866625       13190   \n",
       "\n",
       "                                                    \n",
       "                                 vwap daily_return  \n",
       "timestamp                                           \n",
       "2019-11-04 05:00:00+00:00  112.644988          NaN  \n",
       "2019-11-05 05:00:00+00:00  112.237379    -0.003728  \n",
       "2019-11-06 05:00:00+00:00  112.416874     0.001515  \n",
       "2019-11-07 05:00:00+00:00  111.883065    -0.004715  \n",
       "2019-11-08 05:00:00+00:00  111.881934    -0.000536  "
      ]
     },
     "execution_count": 41,
     "metadata": {},
     "output_type": "execute_result"
    }
   ],
   "source": [
    "# Configure a Monte Carlo simulation to forecast 10 years cumulative returns\n",
    "# The weights should be split 20% to AGG and 80% to SPY.\n",
    "# Run 500 samples.\n",
    "# YOUR CODE HERE\n",
    "MC_increased_stock_weight = MCSimulation(\n",
    "    portfolio_data = prices_df,\n",
    "    weights = [.80,.20],\n",
    "    num_simulation = 500,\n",
    "    num_trading_days = 252*10\n",
    ")\n",
    "\n",
    "\n",
    "# Review the simulation input data\n",
    "# YOUR CODE HERE\n",
    "MC_increased_stock_weight.portfolio_data.head()"
   ]
  },
  {
   "cell_type": "code",
   "execution_count": null,
   "metadata": {},
   "outputs": [],
   "source": []
  },
  {
   "cell_type": "code",
   "execution_count": 43,
   "metadata": {},
   "outputs": [
    {
     "name": "stdout",
     "output_type": "stream",
     "text": [
      "Running Monte Carlo simulation number 0.\n",
      "Running Monte Carlo simulation number 10.\n",
      "Running Monte Carlo simulation number 20.\n",
      "Running Monte Carlo simulation number 30.\n",
      "Running Monte Carlo simulation number 40.\n",
      "Running Monte Carlo simulation number 50.\n",
      "Running Monte Carlo simulation number 60.\n",
      "Running Monte Carlo simulation number 70.\n",
      "Running Monte Carlo simulation number 80.\n",
      "Running Monte Carlo simulation number 90.\n",
      "Running Monte Carlo simulation number 100.\n",
      "Running Monte Carlo simulation number 110.\n",
      "Running Monte Carlo simulation number 120.\n",
      "Running Monte Carlo simulation number 130.\n",
      "Running Monte Carlo simulation number 140.\n",
      "Running Monte Carlo simulation number 150.\n",
      "Running Monte Carlo simulation number 160.\n",
      "Running Monte Carlo simulation number 170.\n",
      "Running Monte Carlo simulation number 180.\n",
      "Running Monte Carlo simulation number 190.\n",
      "Running Monte Carlo simulation number 200.\n",
      "Running Monte Carlo simulation number 210.\n",
      "Running Monte Carlo simulation number 220.\n",
      "Running Monte Carlo simulation number 230.\n",
      "Running Monte Carlo simulation number 240.\n",
      "Running Monte Carlo simulation number 250.\n",
      "Running Monte Carlo simulation number 260.\n",
      "Running Monte Carlo simulation number 270.\n",
      "Running Monte Carlo simulation number 280.\n",
      "Running Monte Carlo simulation number 290.\n",
      "Running Monte Carlo simulation number 300.\n",
      "Running Monte Carlo simulation number 310.\n",
      "Running Monte Carlo simulation number 320.\n",
      "Running Monte Carlo simulation number 330.\n",
      "Running Monte Carlo simulation number 340.\n",
      "Running Monte Carlo simulation number 350.\n",
      "Running Monte Carlo simulation number 360.\n",
      "Running Monte Carlo simulation number 370.\n",
      "Running Monte Carlo simulation number 380.\n",
      "Running Monte Carlo simulation number 390.\n",
      "Running Monte Carlo simulation number 400.\n",
      "Running Monte Carlo simulation number 410.\n",
      "Running Monte Carlo simulation number 420.\n",
      "Running Monte Carlo simulation number 430.\n",
      "Running Monte Carlo simulation number 440.\n",
      "Running Monte Carlo simulation number 450.\n",
      "Running Monte Carlo simulation number 460.\n",
      "Running Monte Carlo simulation number 470.\n",
      "Running Monte Carlo simulation number 480.\n",
      "Running Monte Carlo simulation number 490.\n"
     ]
    },
    {
     "data": {
      "text/html": [
       "<div>\n",
       "<style scoped>\n",
       "    .dataframe tbody tr th:only-of-type {\n",
       "        vertical-align: middle;\n",
       "    }\n",
       "\n",
       "    .dataframe tbody tr th {\n",
       "        vertical-align: top;\n",
       "    }\n",
       "\n",
       "    .dataframe thead th {\n",
       "        text-align: right;\n",
       "    }\n",
       "</style>\n",
       "<table border=\"1\" class=\"dataframe\">\n",
       "  <thead>\n",
       "    <tr style=\"text-align: right;\">\n",
       "      <th></th>\n",
       "      <th>0</th>\n",
       "      <th>1</th>\n",
       "      <th>2</th>\n",
       "      <th>3</th>\n",
       "      <th>4</th>\n",
       "      <th>5</th>\n",
       "      <th>6</th>\n",
       "      <th>7</th>\n",
       "      <th>8</th>\n",
       "      <th>9</th>\n",
       "      <th>...</th>\n",
       "      <th>490</th>\n",
       "      <th>491</th>\n",
       "      <th>492</th>\n",
       "      <th>493</th>\n",
       "      <th>494</th>\n",
       "      <th>495</th>\n",
       "      <th>496</th>\n",
       "      <th>497</th>\n",
       "      <th>498</th>\n",
       "      <th>499</th>\n",
       "    </tr>\n",
       "  </thead>\n",
       "  <tbody>\n",
       "    <tr>\n",
       "      <th>0</th>\n",
       "      <td>1.000000</td>\n",
       "      <td>1.000000</td>\n",
       "      <td>1.000000</td>\n",
       "      <td>1.000000</td>\n",
       "      <td>1.000000</td>\n",
       "      <td>1.000000</td>\n",
       "      <td>1.000000</td>\n",
       "      <td>1.000000</td>\n",
       "      <td>1.000000</td>\n",
       "      <td>1.000000</td>\n",
       "      <td>...</td>\n",
       "      <td>1.000000</td>\n",
       "      <td>1.000000</td>\n",
       "      <td>1.000000</td>\n",
       "      <td>1.000000</td>\n",
       "      <td>1.000000</td>\n",
       "      <td>1.000000</td>\n",
       "      <td>1.000000</td>\n",
       "      <td>1.000000</td>\n",
       "      <td>1.000000</td>\n",
       "      <td>1.000000</td>\n",
       "    </tr>\n",
       "    <tr>\n",
       "      <th>1</th>\n",
       "      <td>0.995269</td>\n",
       "      <td>0.991547</td>\n",
       "      <td>1.032281</td>\n",
       "      <td>1.003036</td>\n",
       "      <td>1.010041</td>\n",
       "      <td>0.997881</td>\n",
       "      <td>0.994263</td>\n",
       "      <td>0.982796</td>\n",
       "      <td>1.011862</td>\n",
       "      <td>1.009112</td>\n",
       "      <td>...</td>\n",
       "      <td>0.991952</td>\n",
       "      <td>0.995087</td>\n",
       "      <td>0.992214</td>\n",
       "      <td>1.004249</td>\n",
       "      <td>0.996039</td>\n",
       "      <td>0.999582</td>\n",
       "      <td>1.012666</td>\n",
       "      <td>0.990956</td>\n",
       "      <td>1.014432</td>\n",
       "      <td>1.006851</td>\n",
       "    </tr>\n",
       "    <tr>\n",
       "      <th>2</th>\n",
       "      <td>0.991579</td>\n",
       "      <td>0.988207</td>\n",
       "      <td>1.024999</td>\n",
       "      <td>1.026258</td>\n",
       "      <td>1.014976</td>\n",
       "      <td>1.001138</td>\n",
       "      <td>0.994401</td>\n",
       "      <td>0.957102</td>\n",
       "      <td>1.007863</td>\n",
       "      <td>0.992276</td>\n",
       "      <td>...</td>\n",
       "      <td>0.991932</td>\n",
       "      <td>1.001190</td>\n",
       "      <td>0.991933</td>\n",
       "      <td>1.032003</td>\n",
       "      <td>0.980954</td>\n",
       "      <td>1.000702</td>\n",
       "      <td>1.024182</td>\n",
       "      <td>0.987264</td>\n",
       "      <td>1.021073</td>\n",
       "      <td>1.006391</td>\n",
       "    </tr>\n",
       "    <tr>\n",
       "      <th>3</th>\n",
       "      <td>0.987684</td>\n",
       "      <td>0.987181</td>\n",
       "      <td>1.024109</td>\n",
       "      <td>1.020666</td>\n",
       "      <td>1.018384</td>\n",
       "      <td>1.016310</td>\n",
       "      <td>0.990399</td>\n",
       "      <td>0.963108</td>\n",
       "      <td>1.004181</td>\n",
       "      <td>0.989562</td>\n",
       "      <td>...</td>\n",
       "      <td>1.003480</td>\n",
       "      <td>0.986184</td>\n",
       "      <td>0.978012</td>\n",
       "      <td>1.030786</td>\n",
       "      <td>0.981684</td>\n",
       "      <td>0.982408</td>\n",
       "      <td>1.021901</td>\n",
       "      <td>0.981045</td>\n",
       "      <td>0.986409</td>\n",
       "      <td>1.009768</td>\n",
       "    </tr>\n",
       "    <tr>\n",
       "      <th>4</th>\n",
       "      <td>0.989962</td>\n",
       "      <td>0.980784</td>\n",
       "      <td>1.014542</td>\n",
       "      <td>1.028659</td>\n",
       "      <td>1.041003</td>\n",
       "      <td>1.030701</td>\n",
       "      <td>0.997858</td>\n",
       "      <td>0.973048</td>\n",
       "      <td>0.998226</td>\n",
       "      <td>0.987675</td>\n",
       "      <td>...</td>\n",
       "      <td>1.004261</td>\n",
       "      <td>0.991899</td>\n",
       "      <td>0.988462</td>\n",
       "      <td>1.029182</td>\n",
       "      <td>0.956591</td>\n",
       "      <td>0.973070</td>\n",
       "      <td>1.015731</td>\n",
       "      <td>0.978886</td>\n",
       "      <td>1.003256</td>\n",
       "      <td>1.028547</td>\n",
       "    </tr>\n",
       "    <tr>\n",
       "      <th>...</th>\n",
       "      <td>...</td>\n",
       "      <td>...</td>\n",
       "      <td>...</td>\n",
       "      <td>...</td>\n",
       "      <td>...</td>\n",
       "      <td>...</td>\n",
       "      <td>...</td>\n",
       "      <td>...</td>\n",
       "      <td>...</td>\n",
       "      <td>...</td>\n",
       "      <td>...</td>\n",
       "      <td>...</td>\n",
       "      <td>...</td>\n",
       "      <td>...</td>\n",
       "      <td>...</td>\n",
       "      <td>...</td>\n",
       "      <td>...</td>\n",
       "      <td>...</td>\n",
       "      <td>...</td>\n",
       "      <td>...</td>\n",
       "      <td>...</td>\n",
       "    </tr>\n",
       "    <tr>\n",
       "      <th>2516</th>\n",
       "      <td>0.544469</td>\n",
       "      <td>12.731134</td>\n",
       "      <td>0.589483</td>\n",
       "      <td>0.822906</td>\n",
       "      <td>2.014986</td>\n",
       "      <td>3.044343</td>\n",
       "      <td>6.073323</td>\n",
       "      <td>1.686174</td>\n",
       "      <td>1.595220</td>\n",
       "      <td>1.095700</td>\n",
       "      <td>...</td>\n",
       "      <td>0.927404</td>\n",
       "      <td>1.052550</td>\n",
       "      <td>1.144616</td>\n",
       "      <td>0.958066</td>\n",
       "      <td>1.008394</td>\n",
       "      <td>2.821877</td>\n",
       "      <td>1.756345</td>\n",
       "      <td>0.938633</td>\n",
       "      <td>1.928445</td>\n",
       "      <td>6.702106</td>\n",
       "    </tr>\n",
       "    <tr>\n",
       "      <th>2517</th>\n",
       "      <td>0.554003</td>\n",
       "      <td>12.759792</td>\n",
       "      <td>0.583637</td>\n",
       "      <td>0.834701</td>\n",
       "      <td>2.034300</td>\n",
       "      <td>3.066643</td>\n",
       "      <td>6.154900</td>\n",
       "      <td>1.672365</td>\n",
       "      <td>1.628911</td>\n",
       "      <td>1.122726</td>\n",
       "      <td>...</td>\n",
       "      <td>0.927555</td>\n",
       "      <td>1.039954</td>\n",
       "      <td>1.167366</td>\n",
       "      <td>0.945589</td>\n",
       "      <td>1.004181</td>\n",
       "      <td>2.823428</td>\n",
       "      <td>1.745536</td>\n",
       "      <td>0.956628</td>\n",
       "      <td>1.921841</td>\n",
       "      <td>6.801755</td>\n",
       "    </tr>\n",
       "    <tr>\n",
       "      <th>2518</th>\n",
       "      <td>0.557113</td>\n",
       "      <td>13.013912</td>\n",
       "      <td>0.583813</td>\n",
       "      <td>0.829748</td>\n",
       "      <td>2.035917</td>\n",
       "      <td>3.043543</td>\n",
       "      <td>6.370927</td>\n",
       "      <td>1.669738</td>\n",
       "      <td>1.615103</td>\n",
       "      <td>1.078719</td>\n",
       "      <td>...</td>\n",
       "      <td>0.921436</td>\n",
       "      <td>1.051044</td>\n",
       "      <td>1.157371</td>\n",
       "      <td>0.932821</td>\n",
       "      <td>0.995096</td>\n",
       "      <td>2.844506</td>\n",
       "      <td>1.744815</td>\n",
       "      <td>0.955896</td>\n",
       "      <td>1.934638</td>\n",
       "      <td>6.781604</td>\n",
       "    </tr>\n",
       "    <tr>\n",
       "      <th>2519</th>\n",
       "      <td>0.556645</td>\n",
       "      <td>13.146817</td>\n",
       "      <td>0.583630</td>\n",
       "      <td>0.834445</td>\n",
       "      <td>2.022894</td>\n",
       "      <td>3.045162</td>\n",
       "      <td>6.377230</td>\n",
       "      <td>1.635516</td>\n",
       "      <td>1.627759</td>\n",
       "      <td>1.076393</td>\n",
       "      <td>...</td>\n",
       "      <td>0.923978</td>\n",
       "      <td>1.051496</td>\n",
       "      <td>1.189252</td>\n",
       "      <td>0.943796</td>\n",
       "      <td>0.977726</td>\n",
       "      <td>2.887014</td>\n",
       "      <td>1.713660</td>\n",
       "      <td>0.960838</td>\n",
       "      <td>1.973784</td>\n",
       "      <td>6.850713</td>\n",
       "    </tr>\n",
       "    <tr>\n",
       "      <th>2520</th>\n",
       "      <td>0.562230</td>\n",
       "      <td>13.092712</td>\n",
       "      <td>0.578103</td>\n",
       "      <td>0.844151</td>\n",
       "      <td>2.030233</td>\n",
       "      <td>3.055878</td>\n",
       "      <td>6.221885</td>\n",
       "      <td>1.622580</td>\n",
       "      <td>1.644534</td>\n",
       "      <td>1.070646</td>\n",
       "      <td>...</td>\n",
       "      <td>0.932138</td>\n",
       "      <td>1.051422</td>\n",
       "      <td>1.187986</td>\n",
       "      <td>0.961573</td>\n",
       "      <td>0.971085</td>\n",
       "      <td>2.806263</td>\n",
       "      <td>1.718565</td>\n",
       "      <td>0.974492</td>\n",
       "      <td>2.007466</td>\n",
       "      <td>6.822152</td>\n",
       "    </tr>\n",
       "  </tbody>\n",
       "</table>\n",
       "<p>2521 rows × 500 columns</p>\n",
       "</div>"
      ],
      "text/plain": [
       "           0          1         2         3         4         5         6    \\\n",
       "0     1.000000   1.000000  1.000000  1.000000  1.000000  1.000000  1.000000   \n",
       "1     0.995269   0.991547  1.032281  1.003036  1.010041  0.997881  0.994263   \n",
       "2     0.991579   0.988207  1.024999  1.026258  1.014976  1.001138  0.994401   \n",
       "3     0.987684   0.987181  1.024109  1.020666  1.018384  1.016310  0.990399   \n",
       "4     0.989962   0.980784  1.014542  1.028659  1.041003  1.030701  0.997858   \n",
       "...        ...        ...       ...       ...       ...       ...       ...   \n",
       "2516  0.544469  12.731134  0.589483  0.822906  2.014986  3.044343  6.073323   \n",
       "2517  0.554003  12.759792  0.583637  0.834701  2.034300  3.066643  6.154900   \n",
       "2518  0.557113  13.013912  0.583813  0.829748  2.035917  3.043543  6.370927   \n",
       "2519  0.556645  13.146817  0.583630  0.834445  2.022894  3.045162  6.377230   \n",
       "2520  0.562230  13.092712  0.578103  0.844151  2.030233  3.055878  6.221885   \n",
       "\n",
       "           7         8         9    ...       490       491       492  \\\n",
       "0     1.000000  1.000000  1.000000  ...  1.000000  1.000000  1.000000   \n",
       "1     0.982796  1.011862  1.009112  ...  0.991952  0.995087  0.992214   \n",
       "2     0.957102  1.007863  0.992276  ...  0.991932  1.001190  0.991933   \n",
       "3     0.963108  1.004181  0.989562  ...  1.003480  0.986184  0.978012   \n",
       "4     0.973048  0.998226  0.987675  ...  1.004261  0.991899  0.988462   \n",
       "...        ...       ...       ...  ...       ...       ...       ...   \n",
       "2516  1.686174  1.595220  1.095700  ...  0.927404  1.052550  1.144616   \n",
       "2517  1.672365  1.628911  1.122726  ...  0.927555  1.039954  1.167366   \n",
       "2518  1.669738  1.615103  1.078719  ...  0.921436  1.051044  1.157371   \n",
       "2519  1.635516  1.627759  1.076393  ...  0.923978  1.051496  1.189252   \n",
       "2520  1.622580  1.644534  1.070646  ...  0.932138  1.051422  1.187986   \n",
       "\n",
       "           493       494       495       496       497       498       499  \n",
       "0     1.000000  1.000000  1.000000  1.000000  1.000000  1.000000  1.000000  \n",
       "1     1.004249  0.996039  0.999582  1.012666  0.990956  1.014432  1.006851  \n",
       "2     1.032003  0.980954  1.000702  1.024182  0.987264  1.021073  1.006391  \n",
       "3     1.030786  0.981684  0.982408  1.021901  0.981045  0.986409  1.009768  \n",
       "4     1.029182  0.956591  0.973070  1.015731  0.978886  1.003256  1.028547  \n",
       "...        ...       ...       ...       ...       ...       ...       ...  \n",
       "2516  0.958066  1.008394  2.821877  1.756345  0.938633  1.928445  6.702106  \n",
       "2517  0.945589  1.004181  2.823428  1.745536  0.956628  1.921841  6.801755  \n",
       "2518  0.932821  0.995096  2.844506  1.744815  0.955896  1.934638  6.781604  \n",
       "2519  0.943796  0.977726  2.887014  1.713660  0.960838  1.973784  6.850713  \n",
       "2520  0.961573  0.971085  2.806263  1.718565  0.974492  2.007466  6.822152  \n",
       "\n",
       "[2521 rows x 500 columns]"
      ]
     },
     "execution_count": 43,
     "metadata": {},
     "output_type": "execute_result"
    }
   ],
   "source": [
    "# Run the Monte Carlo simulation to forecast 10 years cumulative returns\n",
    "# YOUR CODE HERE\n",
    "MC_increased_stock_weight.calc_cumulative_return()"
   ]
  },
  {
   "cell_type": "code",
   "execution_count": null,
   "metadata": {},
   "outputs": [],
   "source": []
  },
  {
   "cell_type": "code",
   "execution_count": null,
   "metadata": {},
   "outputs": [],
   "source": []
  },
  {
   "cell_type": "code",
   "execution_count": 45,
   "metadata": {},
   "outputs": [
    {
     "data": {
      "image/png": "[encoded data removed]",
      "text/plain": [
       "<Figure size 432x288 with 1 Axes>"
      ]
     },
     "metadata": {
      "needs_background": "light"
     },
     "output_type": "display_data"
    }
   ],
   "source": [
    "# Visualize the 10-year Monte Carlo simulation by creating an\n",
    "# overlay line plot\n",
    "# YOUR CODE HERE\n",
    "Increased_stock_weight_line_plot = MC_increased_stock_weight.plot_simulation()"
   ]
  },
  {
   "cell_type": "code",
   "execution_count": null,
   "metadata": {},
   "outputs": [],
   "source": []
  },
  {
   "cell_type": "code",
   "execution_count": 46,
   "metadata": {},
   "outputs": [
    {
     "data": {
      "image/png": "[encoded data removed]",
      "text/plain": [
       "<Figure size 432x288 with 1 Axes>"
      ]
     },
     "metadata": {
      "needs_background": "light"
     },
     "output_type": "display_data"
    }
   ],
   "source": [
    "# Visualize the probability distribution of the 10-year Monte Carlo simulation \n",
    "# by plotting a histogram\n",
    "# YOUR CODE HERE\n",
    "Increased_stock_weight_line_plot = MC_increased_stock_weight.plot_distribution()"
   ]
  },
  {
   "cell_type": "code",
   "execution_count": null,
   "metadata": {},
   "outputs": [],
   "source": []
  },
  {
   "cell_type": "code",
   "execution_count": 48,
   "metadata": {},
   "outputs": [
    {
     "name": "stdout",
     "output_type": "stream",
     "text": [
      "count           500.000000\n",
      "mean              1.798029\n",
      "std               1.255622\n",
      "min               0.224598\n",
      "25%               0.987881\n",
      "50%               1.534238\n",
      "75%               2.257877\n",
      "max              13.092712\n",
      "95% CI Lower      0.460971\n",
      "95% CI Upper      4.681998\n",
      "Name: 2520, dtype: float64\n"
     ]
    }
   ],
   "source": [
    "# Generate summary statistics from the 10-year Monte Carlo simulation results\n",
    "# Save the results as a variable\n",
    "# YOUR CODE HERE\n",
    "Increased_stock_weight_table = MC_increased_stock_weight.summarize_cumulative_return()\n",
    "\n",
    "# Review the 10-year Monte Carlo summary statistics\n",
    "# YOUR CODE HERE\n",
    "print(Increased_stock_weight_table)"
   ]
  },
  {
   "cell_type": "code",
   "execution_count": null,
   "metadata": {},
   "outputs": [],
   "source": []
  },
  {
   "cell_type": "code",
   "execution_count": null,
   "metadata": {},
   "outputs": [],
   "source": []
  },
  {
   "cell_type": "code",
   "execution_count": null,
   "metadata": {},
   "outputs": [],
   "source": []
  },
  {
   "cell_type": "markdown",
   "metadata": {},
   "source": [
    "### Answer the following questions:"
   ]
  },
  {
   "cell_type": "markdown",
   "metadata": {},
   "source": [
    "#### Question: Using the current value of only the stock and bond portion of the member's portfolio and the summary statistics that you generated from the new Monte Carlo simulation, what are the lower and upper bounds for the expected value of the portfolio (with the new weights) with a 95% confidence interval?"
   ]
  },
  {
   "cell_type": "code",
   "execution_count": 49,
   "metadata": {},
   "outputs": [
    {
     "data": {
      "text/plain": [
       "74545.839"
      ]
     },
     "metadata": {},
     "output_type": "display_data"
    }
   ],
   "source": [
    "# Print the current balance of the stock and bond portion of the members portfolio\n",
    "# YOUR CODE HERE\n",
    "display(total_portfolio)"
   ]
  },
  {
   "cell_type": "code",
   "execution_count": null,
   "metadata": {},
   "outputs": [],
   "source": []
  },
  {
   "cell_type": "code",
   "execution_count": 50,
   "metadata": {},
   "outputs": [
    {
     "name": "stdout",
     "output_type": "stream",
     "text": [
      "There is a 95% chance that an initial investment of the total portfolio $74545.839 with an  80/20 weight portfolio over the next 30 years will end within in the range of $ 34363.46 and $ 349023.50.\n"
     ]
    }
   ],
   "source": [
    "# Use the lower and upper `95%` confidence intervals to calculate the range of the possible outcomes for the current stock/bond portfolio\n",
    "ci_lower_ten_cumulative_return = Increased_stock_weight_table[8] * total_portfolio\n",
    "ci_upper_ten_cumulative_return = Increased_stock_weight_table[9] * total_portfolio\n",
    "\n",
    "# Print the result of your calculations\n",
    "# YOUR CODE HERE\n",
    "print(f\"There is a 95% chance that an initial investment of the total portfolio $74545.839\"\n",
    "      f\" with an  80/20 weight portfolio over the next 30 years will end within in the range of\"\n",
    "      f\" ${ci_lower_ten_cumulative_return: .2f} and ${ci_upper_ten_cumulative_return: .2f}.\")\n"
   ]
  },
  {
   "cell_type": "code",
   "execution_count": null,
   "metadata": {},
   "outputs": [],
   "source": []
  },
  {
   "cell_type": "markdown",
   "metadata": {},
   "source": [
    "#### Question: Will weighting the portfolio more heavily to stocks allow the credit union members to retire after only 10 years?"
   ]
  },
  {
   "cell_type": "raw",
   "metadata": {},
   "source": [
    "**Answer** # No weighing heavily on stocks won't allow the credit union members to retire in 10 years -  increasing the weight on stock won't add much to the upper bound compared with 60/40 wieght for 30 years. "
   ]
  },
  {
   "cell_type": "code",
   "execution_count": null,
   "metadata": {},
   "outputs": [],
   "source": []
  }
 ],
 "metadata": {
  "kernelspec": {
   "display_name": "Python 3",
   "language": "python",
   "name": "python3"
  },
  "language_info": {
   "codemirror_mode": {
    "name": "ipython",
    "version": 3
   },
   "file_extension": ".py",
   "mimetype": "text/x-python",
   "name": "python",
   "nbconvert_exporter": "python",
   "pygments_lexer": "ipython3",
   "version": "3.6.3"
  }
 },
 "nbformat": 4,
 "nbformat_minor": 4
}
